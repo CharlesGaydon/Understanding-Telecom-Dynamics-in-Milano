{
 "cells": [
  {
   "cell_type": "markdown",
   "metadata": {},
   "source": [
    "___\n",
    "Projet Machine Learning\n",
    "\n",
    "Auteurs du projet : **Romain CANDY, Charles GAYDON, Tangui de CREVOISIER, Enzo LEBRUN**\n",
    "\n",
    "Année universitaire 2017-2018\n",
    "\n",
    "Le code employé dans ce travail est disponible sur ce [*répertoire GitHub*](https://github.com/CharlesGaydon/Understanding-Telecom-Dynamics-in-Milano/).\n",
    "___\n",
    "\n",
    "# III. Classification : prédiction de churn, comparaison de modèles pour la classification\n",
    "\n",
    "Auteur de ce notebook : Tangui de Crevoisier\n",
    "\n",
    "Nous travaillons sur un jeu de données Kaggle : https://www.kaggle.com/becksddf/churn-in-telecoms-dataset\n",
    "Il rapporte pour des clients d’une entreprise de télécommunication anonyme si la personne s’est désabonnée. L’objectif sera ici de prédire si les clients risquent de se désabonner, afin de les retenir en (par exemple) leur proposant une nouvelle offre de forfait ou de tarifs réduits sur les téléphones."
   ]
  },
  {
   "cell_type": "code",
   "execution_count": 1,
   "metadata": {
    "collapsed": false
   },
   "outputs": [
    {
     "name": "stdout",
     "output_type": "stream",
     "text": [
      "<class 'pandas.core.frame.DataFrame'>\n",
      "3333\n",
      "2223\n"
     ]
    },
    {
     "data": {
      "text/html": [
       "<div>\n",
       "<style>\n",
       "    .dataframe thead tr:only-child th {\n",
       "        text-align: right;\n",
       "    }\n",
       "\n",
       "    .dataframe thead th {\n",
       "        text-align: left;\n",
       "    }\n",
       "\n",
       "    .dataframe tbody tr th {\n",
       "        vertical-align: top;\n",
       "    }\n",
       "</style>\n",
       "<table border=\"1\" class=\"dataframe\">\n",
       "  <thead>\n",
       "    <tr style=\"text-align: right;\">\n",
       "      <th></th>\n",
       "      <th>international plan</th>\n",
       "      <th>voice mail plan</th>\n",
       "      <th>number vmail messages</th>\n",
       "      <th>total day minutes</th>\n",
       "      <th>total day calls</th>\n",
       "      <th>total day charge</th>\n",
       "      <th>total eve minutes</th>\n",
       "      <th>total eve calls</th>\n",
       "      <th>total eve charge</th>\n",
       "      <th>total night minutes</th>\n",
       "      <th>total night calls</th>\n",
       "      <th>total night charge</th>\n",
       "      <th>total intl minutes</th>\n",
       "      <th>total intl calls</th>\n",
       "      <th>total intl charge</th>\n",
       "      <th>customer service calls</th>\n",
       "    </tr>\n",
       "  </thead>\n",
       "  <tbody>\n",
       "    <tr>\n",
       "      <th>0</th>\n",
       "      <td>0</td>\n",
       "      <td>0</td>\n",
       "      <td>0</td>\n",
       "      <td>124.3</td>\n",
       "      <td>68</td>\n",
       "      <td>21.13</td>\n",
       "      <td>207.1</td>\n",
       "      <td>88</td>\n",
       "      <td>17.60</td>\n",
       "      <td>157.4</td>\n",
       "      <td>93</td>\n",
       "      <td>7.08</td>\n",
       "      <td>14.8</td>\n",
       "      <td>1</td>\n",
       "      <td>4.00</td>\n",
       "      <td>0</td>\n",
       "    </tr>\n",
       "    <tr>\n",
       "      <th>1</th>\n",
       "      <td>1</td>\n",
       "      <td>0</td>\n",
       "      <td>0</td>\n",
       "      <td>236.8</td>\n",
       "      <td>141</td>\n",
       "      <td>40.26</td>\n",
       "      <td>265.3</td>\n",
       "      <td>101</td>\n",
       "      <td>22.55</td>\n",
       "      <td>152.4</td>\n",
       "      <td>77</td>\n",
       "      <td>6.86</td>\n",
       "      <td>9.5</td>\n",
       "      <td>2</td>\n",
       "      <td>2.57</td>\n",
       "      <td>1</td>\n",
       "    </tr>\n",
       "    <tr>\n",
       "      <th>2</th>\n",
       "      <td>0</td>\n",
       "      <td>0</td>\n",
       "      <td>0</td>\n",
       "      <td>182.9</td>\n",
       "      <td>113</td>\n",
       "      <td>31.09</td>\n",
       "      <td>239.6</td>\n",
       "      <td>85</td>\n",
       "      <td>20.37</td>\n",
       "      <td>229.8</td>\n",
       "      <td>104</td>\n",
       "      <td>10.34</td>\n",
       "      <td>5.5</td>\n",
       "      <td>4</td>\n",
       "      <td>1.49</td>\n",
       "      <td>2</td>\n",
       "    </tr>\n",
       "    <tr>\n",
       "      <th>3</th>\n",
       "      <td>1</td>\n",
       "      <td>0</td>\n",
       "      <td>0</td>\n",
       "      <td>204.0</td>\n",
       "      <td>84</td>\n",
       "      <td>34.68</td>\n",
       "      <td>168.5</td>\n",
       "      <td>61</td>\n",
       "      <td>14.32</td>\n",
       "      <td>164.0</td>\n",
       "      <td>102</td>\n",
       "      <td>7.38</td>\n",
       "      <td>13.3</td>\n",
       "      <td>3</td>\n",
       "      <td>3.59</td>\n",
       "      <td>3</td>\n",
       "    </tr>\n",
       "    <tr>\n",
       "      <th>4</th>\n",
       "      <td>0</td>\n",
       "      <td>0</td>\n",
       "      <td>0</td>\n",
       "      <td>154.3</td>\n",
       "      <td>107</td>\n",
       "      <td>26.23</td>\n",
       "      <td>183.0</td>\n",
       "      <td>111</td>\n",
       "      <td>15.56</td>\n",
       "      <td>54.0</td>\n",
       "      <td>134</td>\n",
       "      <td>2.43</td>\n",
       "      <td>10.9</td>\n",
       "      <td>8</td>\n",
       "      <td>2.94</td>\n",
       "      <td>0</td>\n",
       "    </tr>\n",
       "  </tbody>\n",
       "</table>\n",
       "</div>"
      ],
      "text/plain": [
       "   international plan  voice mail plan  number vmail messages  \\\n",
       "0                   0                0                      0   \n",
       "1                   1                0                      0   \n",
       "2                   0                0                      0   \n",
       "3                   1                0                      0   \n",
       "4                   0                0                      0   \n",
       "\n",
       "   total day minutes  total day calls  total day charge  total eve minutes  \\\n",
       "0              124.3               68             21.13              207.1   \n",
       "1              236.8              141             40.26              265.3   \n",
       "2              182.9              113             31.09              239.6   \n",
       "3              204.0               84             34.68              168.5   \n",
       "4              154.3              107             26.23              183.0   \n",
       "\n",
       "   total eve calls  total eve charge  total night minutes  total night calls  \\\n",
       "0               88             17.60                157.4                 93   \n",
       "1              101             22.55                152.4                 77   \n",
       "2               85             20.37                229.8                104   \n",
       "3               61             14.32                164.0                102   \n",
       "4              111             15.56                 54.0                134   \n",
       "\n",
       "   total night charge  total intl minutes  total intl calls  \\\n",
       "0                7.08                14.8                 1   \n",
       "1                6.86                 9.5                 2   \n",
       "2               10.34                 5.5                 4   \n",
       "3                7.38                13.3                 3   \n",
       "4                2.43                10.9                 8   \n",
       "\n",
       "   total intl charge  customer service calls  \n",
       "0               4.00                       0  \n",
       "1               2.57                       1  \n",
       "2               1.49                       2  \n",
       "3               3.59                       3  \n",
       "4               2.94                       0  "
      ]
     },
     "execution_count": 1,
     "metadata": {},
     "output_type": "execute_result"
    }
   ],
   "source": [
    "from sklearn.naive_bayes import GaussianNB\n",
    "from sklearn.metrics import accuracy_score\n",
    "from sklearn.metrics import recall_score\n",
    "import pandas as pd\n",
    "data=pd.read_csv('C:/Users/tangu/Desktop/M2-Data_Science/projet_ML/bigml_59c28831336c6604c800002a.csv',sep=',')\n",
    "data.head()\n",
    "data = data.sample(frac=1).reset_index(drop=True)\n",
    "\n",
    "train=data.drop(['state','account length','phone number','churn','area code'],axis=1)\n",
    "y=data['churn']\n",
    "train.head()\n",
    "train['international plan']=train['international plan'].map({\"yes\":1, \"no\" : 0})\n",
    "train['voice mail plan']=train['voice mail plan'].map({\"yes\":1, \"no\" : 0})\n",
    "\n",
    "\n",
    "x_train=train.loc[0:(2*len(data))/3]\n",
    "y_train=y.loc[0:(2*len(data))/3]\n",
    "x_test=train.loc[(2*len(data))/3:len(data)]\n",
    "y_test=y.loc[(2*len(data))/3:len(data)]\n",
    "train.head()\n"
   ]
  },
  {
   "cell_type": "code",
   "execution_count": 2,
   "metadata": {
    "collapsed": true
   },
   "outputs": [],
   "source": [
    "#from sklearn.preprocessing import MinMaxScaler\n",
    "#minmax = MinMaxScaler()\n",
    "#print(minmax.fit(x_train))\n",
    "#x_train=minmax.transform(x_train)\n",
    "#minmax2 = MinMaxScaler()\n",
    "#print(minmax2.fit(x_test))\n",
    "#x_test=minmax2.transform(x_test)"
   ]
  },
  {
   "cell_type": "code",
   "execution_count": 3,
   "metadata": {
    "collapsed": false
   },
   "outputs": [
    {
     "name": "stdout",
     "output_type": "stream",
     "text": [
      "StandardScaler(copy=True, with_mean=True, with_std=True)\n",
      "StandardScaler(copy=True, with_mean=True, with_std=True)\n"
     ]
    }
   ],
   "source": [
    "from sklearn.preprocessing import StandardScaler\n",
    "scaler = StandardScaler()\n",
    "x_train=scaler.transform(x_train)\n",
    "scaler2 = StandardScaler()\n",
    "x_test=scaler2.transform(x_test)"
   ]
  },
  {
   "cell_type": "code",
   "execution_count": 4,
   "metadata": {
    "collapsed": false
   },
   "outputs": [
    {
     "name": "stdout",
     "output_type": "stream",
     "text": [
      "False    2850\n",
      "True      483\n",
      "Name: churn, dtype: int64\n",
      "taux churn = 0.169473684211\n"
     ]
    }
   ],
   "source": [
    "print(data['churn'].value_counts())\n",
    "print(\"taux churn = \"+ str(data['churn'].value_counts()[1]/data['churn'].value_counts()[0]))"
   ]
  },
  {
   "cell_type": "code",
   "execution_count": 5,
   "metadata": {
    "collapsed": true
   },
   "outputs": [],
   "source": [
    "from sklearn.model_selection import train_test_split\n",
    "\n",
    "predictors = x_train\n",
    "target = y_train\n",
    "x_train2, x_val, y_train2, y_val = train_test_split(predictors, target, test_size = 0.2, random_state = 0)"
   ]
  },
  {
   "cell_type": "code",
   "execution_count": 6,
   "metadata": {
    "collapsed": false
   },
   "outputs": [
    {
     "name": "stdout",
     "output_type": "stream",
     "text": [
      "92.81\n",
      "84.62\n"
     ]
    }
   ],
   "source": [
    "from sklearn.ensemble import RandomForestClassifier\n",
    "\n",
    "randomforest = RandomForestClassifier()\n",
    "randomforest.fit(x_train2, y_train2)\n",
    "y_pred = randomforest.predict(x_val)\n",
    "acc_randomforest = round(accuracy_score(y_pred, y_val) * 100, 2)\n",
    "rec_randomforest = round(recall_score(y_pred, y_val) * 100, 2)"
   ]
  },
  {
   "cell_type": "code",
   "execution_count": 7,
   "metadata": {
    "collapsed": false
   },
   "outputs": [
    {
     "name": "stdout",
     "output_type": "stream",
     "text": [
      "86.97\n"
     ]
    }
   ],
   "source": [
    "from sklearn.naive_bayes import GaussianNB\n",
    "from sklearn.metrics import accuracy_score\n",
    "gaussian = GaussianNB()\n",
    "gaussian.fit(x_train2, y_train2)\n",
    "y_pred = gaussian.predict(x_val)\n",
    "acc_gaussian = round(accuracy_score(y_pred, y_val)*100,2)\n",
    "rec_gaussian = round(recall_score(y_pred, y_val) * 100, 2)\n",
    "\n",
    "print(acc_gaussian)"
   ]
  },
  {
   "cell_type": "code",
   "execution_count": 8,
   "metadata": {
    "collapsed": false
   },
   "outputs": [
    {
     "name": "stdout",
     "output_type": "stream",
     "text": [
      "88.54\n"
     ]
    }
   ],
   "source": [
    "from sklearn.linear_model import LogisticRegression\n",
    "\n",
    "logreg = LogisticRegression()\n",
    "logreg.fit(x_train2, y_train2)\n",
    "y_pred = logreg.predict(x_val)\n",
    "acc_logreg = round(accuracy_score(y_pred, y_val) *100,2)\n",
    "rec_logreg = round(recall_score(y_pred, y_val) * 100, 2)\n",
    "print(acc_logreg)"
   ]
  },
  {
   "cell_type": "code",
   "execution_count": 9,
   "metadata": {
    "collapsed": false
   },
   "outputs": [
    {
     "name": "stdout",
     "output_type": "stream",
     "text": [
      "91.69\n"
     ]
    }
   ],
   "source": [
    "from sklearn.svm import SVC\n",
    "svc = SVC()\n",
    "svc.fit(x_train2, y_train2)\n",
    "y_pred = svc.predict(x_val)\n",
    "acc_svc = round(accuracy_score(y_pred, y_val) * 100, 2)\n",
    "rec_svc = round(recall_score(y_pred, y_val) * 100, 2)\n",
    "\n",
    "print(acc_svc)"
   ]
  },
  {
   "cell_type": "code",
   "execution_count": 10,
   "metadata": {
    "collapsed": false
   },
   "outputs": [
    {
     "name": "stdout",
     "output_type": "stream",
     "text": [
      "82.47\n"
     ]
    },
    {
     "name": "stderr",
     "output_type": "stream",
     "text": [
      "C:\\Users\\tangu\\Anaconda3\\lib\\site-packages\\sklearn\\linear_model\\stochastic_gradient.py:84: FutureWarning: max_iter and tol parameters have been added in <class 'sklearn.linear_model.perceptron.Perceptron'> in 0.19. If both are left unset, they default to max_iter=5 and tol=None. If tol is not None, max_iter defaults to max_iter=1000. From 0.21, default max_iter will be 1000, and default tol will be 1e-3.\n",
      "  \"and default tol will be 1e-3.\" % type(self), FutureWarning)\n"
     ]
    }
   ],
   "source": [
    "from sklearn.linear_model import Perceptron\n",
    "\n",
    "perceptron = Perceptron()\n",
    "perceptron.fit(x_train2, y_train2)\n",
    "y_pred = perceptron.predict(x_val)\n",
    "acc_perceptron = round(accuracy_score(y_pred, y_val) * 100, 2)\n",
    "rec_perceptron = round(recall_score(y_pred, y_val) * 100, 2)\n",
    "print(acc_perceptron)"
   ]
  },
  {
   "cell_type": "code",
   "execution_count": 11,
   "metadata": {
    "collapsed": false
   },
   "outputs": [
    {
     "name": "stdout",
     "output_type": "stream",
     "text": [
      "91.01\n"
     ]
    }
   ],
   "source": [
    "from sklearn.tree import DecisionTreeClassifier\n",
    "\n",
    "decisiontree = DecisionTreeClassifier()\n",
    "decisiontree.fit(x_train2, y_train2)\n",
    "y_pred = decisiontree.predict(x_val)\n",
    "acc_decisiontree = round(accuracy_score(y_pred, y_val) * 100, 2)\n",
    "rec_decisiontree = round(recall_score(y_pred, y_val) * 100, 2)\n",
    "print(acc_decisiontree)"
   ]
  },
  {
   "cell_type": "code",
   "execution_count": 12,
   "metadata": {
    "collapsed": false
   },
   "outputs": [
    {
     "name": "stdout",
     "output_type": "stream",
     "text": [
      "89.21\n"
     ]
    }
   ],
   "source": [
    "from sklearn.neighbors import KNeighborsClassifier\n",
    "\n",
    "knn = KNeighborsClassifier()\n",
    "knn.fit(x_train2, y_train2)\n",
    "y_pred = knn.predict(x_val)\n",
    "acc_knn = round(accuracy_score(y_pred, y_val) * 100, 2)\n",
    "rec_knn = round(recall_score(y_pred, y_val) * 100, 2)\n",
    "print(acc_knn)"
   ]
  },
  {
   "cell_type": "code",
   "execution_count": 13,
   "metadata": {
    "collapsed": false
   },
   "outputs": [
    {
     "name": "stdout",
     "output_type": "stream",
     "text": [
      "83.15\n"
     ]
    },
    {
     "name": "stderr",
     "output_type": "stream",
     "text": [
      "C:\\Users\\tangu\\Anaconda3\\lib\\site-packages\\sklearn\\linear_model\\stochastic_gradient.py:84: FutureWarning: max_iter and tol parameters have been added in <class 'sklearn.linear_model.stochastic_gradient.SGDClassifier'> in 0.19. If both are left unset, they default to max_iter=5 and tol=None. If tol is not None, max_iter defaults to max_iter=1000. From 0.21, default max_iter will be 1000, and default tol will be 1e-3.\n",
      "  \"and default tol will be 1e-3.\" % type(self), FutureWarning)\n"
     ]
    }
   ],
   "source": [
    "from sklearn.linear_model import SGDClassifier\n",
    "\n",
    "sgd = SGDClassifier()\n",
    "sgd.fit(x_train2, y_train2)\n",
    "y_pred = sgd.predict(x_val)\n",
    "acc_sgd = round(accuracy_score(y_pred, y_val) * 100, 2)\n",
    "rec_sgd = round(recall_score(y_pred, y_val) * 100, 2)\n",
    "print(acc_sgd)"
   ]
  },
  {
   "cell_type": "code",
   "execution_count": 14,
   "metadata": {
    "collapsed": false
   },
   "outputs": [
    {
     "name": "stdout",
     "output_type": "stream",
     "text": [
      "93.93\n"
     ]
    }
   ],
   "source": [
    "from sklearn.ensemble import GradientBoostingClassifier\n",
    "\n",
    "gbk = GradientBoostingClassifier()\n",
    "gbk.fit(x_train2, y_train2)\n",
    "y_pred = gbk.predict(x_val)\n",
    "acc_gbk = round(accuracy_score(y_pred, y_val) * 100, 2)\n",
    "rec_gbk = round(recall_score(y_pred, y_val) * 100, 2)\n",
    "\n",
    "print(acc_gbk)"
   ]
  },
  {
   "cell_type": "code",
   "execution_count": 15,
   "metadata": {
    "collapsed": false
   },
   "outputs": [
    {
     "name": "stdout",
     "output_type": "stream",
     "text": [
      "88.09\n"
     ]
    }
   ],
   "source": [
    "# Linear SVC\n",
    "from sklearn.svm import LinearSVC\n",
    "\n",
    "linear_svc = LinearSVC()\n",
    "linear_svc.fit(x_train2, y_train2)\n",
    "y_pred = linear_svc.predict(x_val)\n",
    "acc_linear_svc = round(accuracy_score(y_pred, y_val) * 100, 2)\n",
    "rec_linear_svc = round(recall_score(y_pred, y_val) * 100, 2)\n",
    "print(acc_linear_svc)"
   ]
  },
  {
   "cell_type": "code",
   "execution_count": 16,
   "metadata": {
    "collapsed": false
   },
   "outputs": [
    {
     "data": {
      "text/html": [
       "<div>\n",
       "<style>\n",
       "    .dataframe thead tr:only-child th {\n",
       "        text-align: right;\n",
       "    }\n",
       "\n",
       "    .dataframe thead th {\n",
       "        text-align: left;\n",
       "    }\n",
       "\n",
       "    .dataframe tbody tr th {\n",
       "        vertical-align: top;\n",
       "    }\n",
       "</style>\n",
       "<table border=\"1\" class=\"dataframe\">\n",
       "  <thead>\n",
       "    <tr style=\"text-align: right;\">\n",
       "      <th></th>\n",
       "      <th>Accuracy-Score</th>\n",
       "      <th>Model</th>\n",
       "      <th>Recall-Score</th>\n",
       "    </tr>\n",
       "  </thead>\n",
       "  <tbody>\n",
       "    <tr>\n",
       "      <th>0</th>\n",
       "      <td>91.69</td>\n",
       "      <td>Support Vector Machines</td>\n",
       "      <td>92.31</td>\n",
       "    </tr>\n",
       "    <tr>\n",
       "      <th>3</th>\n",
       "      <td>92.81</td>\n",
       "      <td>Random Forest</td>\n",
       "      <td>84.62</td>\n",
       "    </tr>\n",
       "    <tr>\n",
       "      <th>9</th>\n",
       "      <td>93.93</td>\n",
       "      <td>Gradient Boosting Classifier</td>\n",
       "      <td>83.33</td>\n",
       "    </tr>\n",
       "    <tr>\n",
       "      <th>1</th>\n",
       "      <td>89.21</td>\n",
       "      <td>KNN</td>\n",
       "      <td>78.95</td>\n",
       "    </tr>\n",
       "    <tr>\n",
       "      <th>6</th>\n",
       "      <td>88.09</td>\n",
       "      <td>Linear SVC</td>\n",
       "      <td>75.00</td>\n",
       "    </tr>\n",
       "    <tr>\n",
       "      <th>2</th>\n",
       "      <td>88.54</td>\n",
       "      <td>Logistic Regression</td>\n",
       "      <td>68.18</td>\n",
       "    </tr>\n",
       "    <tr>\n",
       "      <th>7</th>\n",
       "      <td>91.01</td>\n",
       "      <td>Decision Tree</td>\n",
       "      <td>65.57</td>\n",
       "    </tr>\n",
       "    <tr>\n",
       "      <th>4</th>\n",
       "      <td>86.97</td>\n",
       "      <td>Naive Bayes</td>\n",
       "      <td>50.85</td>\n",
       "    </tr>\n",
       "    <tr>\n",
       "      <th>8</th>\n",
       "      <td>83.15</td>\n",
       "      <td>Stochastic Gradient Descent</td>\n",
       "      <td>40.91</td>\n",
       "    </tr>\n",
       "    <tr>\n",
       "      <th>5</th>\n",
       "      <td>82.47</td>\n",
       "      <td>Perceptron</td>\n",
       "      <td>37.66</td>\n",
       "    </tr>\n",
       "  </tbody>\n",
       "</table>\n",
       "</div>"
      ],
      "text/plain": [
       "   Accuracy-Score                         Model  Recall-Score\n",
       "0           91.69       Support Vector Machines         92.31\n",
       "3           92.81                 Random Forest         84.62\n",
       "9           93.93  Gradient Boosting Classifier         83.33\n",
       "1           89.21                           KNN         78.95\n",
       "6           88.09                    Linear SVC         75.00\n",
       "2           88.54           Logistic Regression         68.18\n",
       "7           91.01                 Decision Tree         65.57\n",
       "4           86.97                   Naive Bayes         50.85\n",
       "8           83.15   Stochastic Gradient Descent         40.91\n",
       "5           82.47                    Perceptron         37.66"
      ]
     },
     "execution_count": 16,
     "metadata": {},
     "output_type": "execute_result"
    }
   ],
   "source": [
    "models = pd.DataFrame({\n",
    "    'Model': ['Support Vector Machines', 'KNN', 'Logistic Regression', \n",
    "              'Random Forest', 'Naive Bayes', 'Perceptron', 'Linear SVC', \n",
    "              'Decision Tree', 'Stochastic Gradient Descent', 'Gradient Boosting Classifier'],\n",
    "    'Accuracy-Score': [acc_svc, acc_knn, acc_logreg, \n",
    "              acc_randomforest, acc_gaussian, acc_perceptron,acc_linear_svc, acc_decisiontree,\n",
    "              acc_sgd, acc_gbk],\n",
    "    'Recall-Score': [rec_svc, rec_knn, rec_logreg, \n",
    "              rec_randomforest, rec_gaussian, rec_perceptron,rec_linear_svc, rec_decisiontree,\n",
    "              rec_sgd, rec_gbk]})\n",
    "models.sort_values(by='Recall-Score', ascending=False)"
   ]
  },
  {
   "cell_type": "code",
   "execution_count": 17,
   "metadata": {
    "collapsed": false
   },
   "outputs": [
    {
     "name": "stdout",
     "output_type": "stream",
     "text": [
      "94.06\n",
      "93.58\n"
     ]
    }
   ],
   "source": [
    "from sklearn.ensemble import GradientBoostingClassifier\n",
    "\n",
    "y_pred = gbk.predict(x_test)\n",
    "acc_gbk = round(accuracy_score(y_pred, y_test) * 100, 2)\n",
    "rec_gbk=round(recall_score(y_pred, y_test) * 100, 2)\n",
    "print(acc_gbk)\n",
    "print(rec_gbk)"
   ]
  },
  {
   "cell_type": "code",
   "execution_count": 18,
   "metadata": {
    "collapsed": false
   },
   "outputs": [
    {
     "name": "stdout",
     "output_type": "stream",
     "text": [
      "89.65\n",
      "92.59\n"
     ]
    }
   ],
   "source": [
    "from sklearn.neighbors import KNeighborsClassifier\n",
    "\n",
    "y_pred = knn.predict(x_test)\n",
    "acc_knn = round(accuracy_score(y_pred, y_test) * 100, 2)\n",
    "rec_knn = round(recall_score(y_pred, y_test) * 100, 2)\n",
    "print(acc_knn)\n",
    "print(rec_knn)"
   ]
  },
  {
   "cell_type": "code",
   "execution_count": 19,
   "metadata": {
    "collapsed": false
   },
   "outputs": [
    {
     "name": "stdout",
     "output_type": "stream",
     "text": [
      "93.88\n",
      "96.97\n"
     ]
    }
   ],
   "source": [
    "from sklearn.ensemble import RandomForestClassifier\n",
    "\n",
    "\n",
    "y_pred = randomforest.predict(x_test)\n",
    "acc_randomforest = round(accuracy_score(y_pred, y_test) * 100, 2)\n",
    "rec_randomforest = round(recall_score(y_pred, y_test) * 100, 2)\n",
    "print(acc_randomforest)\n",
    "print(rec_randomforest)"
   ]
  },
  {
   "cell_type": "code",
   "execution_count": 20,
   "metadata": {
    "collapsed": false
   },
   "outputs": [
    {
     "name": "stdout",
     "output_type": "stream",
     "text": [
      "91.45\n"
     ]
    }
   ],
   "source": [
    "from sklearn.svm import SVC\n",
    "y_pred = svc.predict(x_test)\n",
    "acc_svc = round(accuracy_score(y_pred, y_test) * 100, 2)\n",
    "rec_svc = round(recall_score(y_pred, y_test) * 100, 2)\n",
    "\n",
    "print(acc_svc)"
   ]
  },
  {
   "cell_type": "code",
   "execution_count": 22,
   "metadata": {
    "collapsed": false
   },
   "outputs": [
    {
     "data": {
      "text/html": [
       "<div>\n",
       "<style>\n",
       "    .dataframe thead tr:only-child th {\n",
       "        text-align: right;\n",
       "    }\n",
       "\n",
       "    .dataframe thead th {\n",
       "        text-align: left;\n",
       "    }\n",
       "\n",
       "    .dataframe tbody tr th {\n",
       "        vertical-align: top;\n",
       "    }\n",
       "</style>\n",
       "<table border=\"1\" class=\"dataframe\">\n",
       "  <thead>\n",
       "    <tr style=\"text-align: right;\">\n",
       "      <th></th>\n",
       "      <th>Accuracy-Score</th>\n",
       "      <th>Model</th>\n",
       "      <th>Recall-Score</th>\n",
       "    </tr>\n",
       "  </thead>\n",
       "  <tbody>\n",
       "    <tr>\n",
       "      <th>1</th>\n",
       "      <td>94.06</td>\n",
       "      <td>Gradient Boosting Classifier</td>\n",
       "      <td>93.58</td>\n",
       "    </tr>\n",
       "    <tr>\n",
       "      <th>0</th>\n",
       "      <td>93.88</td>\n",
       "      <td>Random Forest</td>\n",
       "      <td>96.97</td>\n",
       "    </tr>\n",
       "    <tr>\n",
       "      <th>2</th>\n",
       "      <td>91.45</td>\n",
       "      <td>Support Vector Machines</td>\n",
       "      <td>92.31</td>\n",
       "    </tr>\n",
       "  </tbody>\n",
       "</table>\n",
       "</div>"
      ],
      "text/plain": [
       "   Accuracy-Score                         Model  Recall-Score\n",
       "1           94.06  Gradient Boosting Classifier         93.58\n",
       "0           93.88                 Random Forest         96.97\n",
       "2           91.45       Support Vector Machines         92.31"
      ]
     },
     "execution_count": 22,
     "metadata": {},
     "output_type": "execute_result"
    }
   ],
   "source": [
    "models = pd.DataFrame({\n",
    "    'Model': ['Random Forest','Gradient Boosting Classifier','Support Vector Machines'],\n",
    "    'Accuracy-Score': [ acc_randomforest,  acc_gbk,acc_svc],\n",
    "    'Recall-Score': [ rec_randomforest, rec_gbk,rec_svc]})\n",
    "models.sort_values(by='Accuracy-Score', ascending=False)"
   ]
  },
  {
   "cell_type": "code",
   "execution_count": null,
   "metadata": {
    "collapsed": true
   },
   "outputs": [],
   "source": []
  }
 ],
 "metadata": {
  "kernelspec": {
   "display_name": "Python 3",
   "language": "python",
   "name": "python3"
  },
  "language_info": {
   "codemirror_mode": {
    "name": "ipython",
    "version": 3
   },
   "file_extension": ".py",
   "mimetype": "text/x-python",
   "name": "python",
   "nbconvert_exporter": "python",
   "pygments_lexer": "ipython3",
   "version": "3.5.4"
  }
 },
 "nbformat": 4,
 "nbformat_minor": 2
}
