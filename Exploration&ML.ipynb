{
 "cells": [
  {
   "cell_type": "markdown",
   "metadata": {},
   "source": [
    "# Exploration of the Milano TelCom data\n",
    "\n",
    "In this notebook, we explore and visualize a few aspects of the data for \"Milano\" (intensity of telcom by square) and \"Milano to Milano\" (network of communication) files.\n",
    "\n",
    "This was also used to validate some preprocessing steps, useful to our further work. \n",
    "In particular, the first section is about extracting all the information for a single square, without forgetting the absent lines (meaning a zero intensity of communication for those timestamps)\n"
   ]
  },
  {
   "cell_type": "markdown",
   "metadata": {},
   "source": [
    "##  1. A few visualisations on the Milano files"
   ]
  },
  {
   "cell_type": "code",
   "execution_count": 2,
   "metadata": {},
   "outputs": [],
   "source": [
    "import pandas as pd\n",
    "import numpy as np\n",
    "%matplotlib inline\n",
    "import matplotlib.pyplot as plt\n",
    "from src.preprocess_tools import *\n",
    "import os"
   ]
  },
  {
   "cell_type": "code",
   "execution_count": 18,
   "metadata": {},
   "outputs": [
    {
     "data": {
      "text/html": [
       "<div>\n",
       "<style scoped>\n",
       "    .dataframe tbody tr th:only-of-type {\n",
       "        vertical-align: middle;\n",
       "    }\n",
       "\n",
       "    .dataframe tbody tr th {\n",
       "        vertical-align: top;\n",
       "    }\n",
       "\n",
       "    .dataframe thead th {\n",
       "        text-align: right;\n",
       "    }\n",
       "</style>\n",
       "<table border=\"1\" class=\"dataframe\">\n",
       "  <thead>\n",
       "    <tr style=\"text-align: right;\">\n",
       "      <th></th>\n",
       "      <th></th>\n",
       "      <th></th>\n",
       "      <th></th>\n",
       "      <th></th>\n",
       "      <th>Country</th>\n",
       "      <th>SMSin</th>\n",
       "      <th>SMSout</th>\n",
       "      <th>Callin</th>\n",
       "      <th>Callout</th>\n",
       "      <th>Internet</th>\n",
       "      <th>Charge</th>\n",
       "    </tr>\n",
       "    <tr>\n",
       "      <th>Square</th>\n",
       "      <th>Month</th>\n",
       "      <th>Day</th>\n",
       "      <th>WDay</th>\n",
       "      <th>Hour</th>\n",
       "      <th></th>\n",
       "      <th></th>\n",
       "      <th></th>\n",
       "      <th></th>\n",
       "      <th></th>\n",
       "      <th></th>\n",
       "      <th></th>\n",
       "    </tr>\n",
       "  </thead>\n",
       "  <tbody>\n",
       "    <tr>\n",
       "      <th rowspan=\"5\" valign=\"top\">1</th>\n",
       "      <th rowspan=\"5\" valign=\"top\">11</th>\n",
       "      <th rowspan=\"5\" valign=\"top\">3</th>\n",
       "      <th rowspan=\"5\" valign=\"top\">6</th>\n",
       "      <th>23</th>\n",
       "      <td>0</td>\n",
       "      <td>0.108039</td>\n",
       "      <td>0.000000</td>\n",
       "      <td>0.000000</td>\n",
       "      <td>0.000000</td>\n",
       "      <td>0.000000</td>\n",
       "      <td>0</td>\n",
       "    </tr>\n",
       "    <tr>\n",
       "      <th>23</th>\n",
       "      <td>39</td>\n",
       "      <td>0.026137</td>\n",
       "      <td>0.030875</td>\n",
       "      <td>0.026137</td>\n",
       "      <td>0.055225</td>\n",
       "      <td>9.260190</td>\n",
       "      <td>0</td>\n",
       "    </tr>\n",
       "    <tr>\n",
       "      <th>23</th>\n",
       "      <td>39</td>\n",
       "      <td>0.187075</td>\n",
       "      <td>0.106876</td>\n",
       "      <td>0.027300</td>\n",
       "      <td>0.000000</td>\n",
       "      <td>9.215273</td>\n",
       "      <td>1</td>\n",
       "    </tr>\n",
       "    <tr>\n",
       "      <th>23</th>\n",
       "      <td>39</td>\n",
       "      <td>0.027925</td>\n",
       "      <td>0.027925</td>\n",
       "      <td>0.001787</td>\n",
       "      <td>0.054601</td>\n",
       "      <td>8.669007</td>\n",
       "      <td>0</td>\n",
       "    </tr>\n",
       "    <tr>\n",
       "      <th>23</th>\n",
       "      <td>39</td>\n",
       "      <td>0.190564</td>\n",
       "      <td>0.106876</td>\n",
       "      <td>0.000000</td>\n",
       "      <td>0.026137</td>\n",
       "      <td>7.811099</td>\n",
       "      <td>1</td>\n",
       "    </tr>\n",
       "  </tbody>\n",
       "</table>\n",
       "</div>"
      ],
      "text/plain": [
       "                            Country     SMSin    SMSout    Callin   Callout  \\\n",
       "Square Month Day WDay Hour                                                    \n",
       "1      11    3   6    23          0  0.108039  0.000000  0.000000  0.000000   \n",
       "                      23         39  0.026137  0.030875  0.026137  0.055225   \n",
       "                      23         39  0.187075  0.106876  0.027300  0.000000   \n",
       "                      23         39  0.027925  0.027925  0.001787  0.054601   \n",
       "                      23         39  0.190564  0.106876  0.000000  0.026137   \n",
       "\n",
       "                            Internet  Charge  \n",
       "Square Month Day WDay Hour                    \n",
       "1      11    3   6    23    0.000000       0  \n",
       "                      23    9.260190       0  \n",
       "                      23    9.215273       1  \n",
       "                      23    8.669007       0  \n",
       "                      23    7.811099       1  "
      ]
     },
     "execution_count": 18,
     "metadata": {},
     "output_type": "execute_result"
    }
   ],
   "source": [
    "file = 'data/MI-2013-11-04_processed.csv'\n",
    "# file = 'data/Example_of_processed_MI_file.txt'\n",
    "d = pd.read_csv(file, sep = '\\t')\n",
    "# d.columns = ['Square','Time','Country','SMSin','SMSout','Callin','Callout','Internet', \"Month\",\"Day\",\"Hour\",\"WDay\",\"Charge\"]\n",
    "d.drop(\"Time\",axis=1,inplace=True)\n",
    "d.set_index([\"Square\",\"Month\",\"Day\",\"WDay\",\"Hour\"],inplace=True)\n",
    "d.head(5)"
   ]
  },
  {
   "cell_type": "markdown",
   "metadata": {},
   "source": [
    "### 1. Intensity by hour during a day"
   ]
  },
  {
   "cell_type": "code",
   "execution_count": 19,
   "metadata": {},
   "outputs": [
    {
     "name": "stderr",
     "output_type": "stream",
     "text": [
      "/home/cgaydon/Ressources/anaconda3/envs/MilanoKeras/lib/python3.5/site-packages/pandas/plotting/_core.py:1716: UserWarning: Pandas doesn't allow columns to be created via a new attribute name - see https://pandas.pydata.org/pandas-docs/stable/indexing.html#attribute-access\n",
      "  series.name = label\n"
     ]
    },
    {
     "data": {
      "text/plain": [
       "<matplotlib.axes._subplots.AxesSubplot at 0x7f87c20b0fd0>"
      ]
     },
     "execution_count": 19,
     "metadata": {},
     "output_type": "execute_result"
    },
    {
     "data": {
      "image/png": "[encoded data removed]",
      "text/plain": [
       "<matplotlib.figure.Figure at 0x7f87f562d208>"
      ]
     },
     "metadata": {},
     "output_type": "display_data"
    }
   ],
   "source": [
    "dHour = d.groupby(level = [\"Hour\"]).sum()\n",
    "dHour.plot(y = [\"SMSin\",\"SMSout\",\"Callin\",\"Callout\"], title = \"Communication dynamics of a day in Milano\")"
   ]
  },
  {
   "cell_type": "code",
   "execution_count": 20,
   "metadata": {},
   "outputs": [
    {
     "name": "stderr",
     "output_type": "stream",
     "text": [
      "/home/cgaydon/Ressources/anaconda3/envs/MilanoKeras/lib/python3.5/site-packages/pandas/plotting/_core.py:1716: UserWarning: Pandas doesn't allow columns to be created via a new attribute name - see https://pandas.pydata.org/pandas-docs/stable/indexing.html#attribute-access\n",
      "  series.name = label\n"
     ]
    },
    {
     "data": {
      "text/plain": [
       "<matplotlib.axes._subplots.AxesSubplot at 0x7f88466bb978>"
      ]
     },
     "execution_count": 20,
     "metadata": {},
     "output_type": "execute_result"
    },
    {
     "data": {
      "image/png": "[encoded data removed]",
      "text/plain": [
       "<matplotlib.figure.Figure at 0x7f8846818c18>"
      ]
     },
     "metadata": {},
     "output_type": "display_data"
    }
   ],
   "source": [
    "dHour[\"BalanceSMS\"] = dHour[\"SMSin\"]- dHour[\"SMSout\"]\n",
    "dHour[\"BalanceCall\"] =  dHour[\"Callin\"]- dHour[\"Callout\"]\n",
    "#dHour.head\n",
    "dHour.plot(y = [\"BalanceSMS\",\"BalanceCall\"], use_index=True, title = \"Communication balance in-out of a day in Milano\")"
   ]
  },
  {
   "cell_type": "markdown",
   "metadata": {},
   "source": [
    "If the data is considered exhaustive, would this means that Milano's inhabitant mostly sms outside of their city, and are called from outside ?"
   ]
  },
  {
   "cell_type": "markdown",
   "metadata": {},
   "source": [
    "### Intensity by hour during a week\n",
    "\n",
    "later : we need to load seven different txt files into one to get this, as a file = a day... \n",
    "\n",
    "TODO : preprocess all MI files without header, stack them, add header, and save."
   ]
  },
  {
   "cell_type": "markdown",
   "metadata": {},
   "source": [
    "### 2. Intensity by square"
   ]
  },
  {
   "cell_type": "code",
   "execution_count": 21,
   "metadata": {},
   "outputs": [
    {
     "data": {
      "text/html": [
       "<div>\n",
       "<style scoped>\n",
       "    .dataframe tbody tr th:only-of-type {\n",
       "        vertical-align: middle;\n",
       "    }\n",
       "\n",
       "    .dataframe tbody tr th {\n",
       "        vertical-align: top;\n",
       "    }\n",
       "\n",
       "    .dataframe thead th {\n",
       "        text-align: right;\n",
       "    }\n",
       "</style>\n",
       "<table border=\"1\" class=\"dataframe\">\n",
       "  <thead>\n",
       "    <tr style=\"text-align: right;\">\n",
       "      <th></th>\n",
       "      <th>Square</th>\n",
       "      <th>Country</th>\n",
       "      <th>SMSin</th>\n",
       "      <th>SMSout</th>\n",
       "      <th>Callin</th>\n",
       "      <th>Callout</th>\n",
       "      <th>Internet</th>\n",
       "      <th>Charge</th>\n",
       "      <th>j</th>\n",
       "      <th>i</th>\n",
       "    </tr>\n",
       "  </thead>\n",
       "  <tbody>\n",
       "    <tr>\n",
       "      <th>0</th>\n",
       "      <td>1</td>\n",
       "      <td>27198</td>\n",
       "      <td>104.793806</td>\n",
       "      <td>54.821018</td>\n",
       "      <td>67.898464</td>\n",
       "      <td>70.399418</td>\n",
       "      <td>1404.813593</td>\n",
       "      <td>162</td>\n",
       "      <td>1</td>\n",
       "      <td>0</td>\n",
       "    </tr>\n",
       "    <tr>\n",
       "      <th>1</th>\n",
       "      <td>2</td>\n",
       "      <td>27198</td>\n",
       "      <td>106.562510</td>\n",
       "      <td>55.662914</td>\n",
       "      <td>68.918439</td>\n",
       "      <td>71.517368</td>\n",
       "      <td>1411.031972</td>\n",
       "      <td>168</td>\n",
       "      <td>2</td>\n",
       "      <td>0</td>\n",
       "    </tr>\n",
       "    <tr>\n",
       "      <th>2</th>\n",
       "      <td>3</td>\n",
       "      <td>23555</td>\n",
       "      <td>108.445224</td>\n",
       "      <td>56.559079</td>\n",
       "      <td>70.004163</td>\n",
       "      <td>72.707383</td>\n",
       "      <td>1417.651191</td>\n",
       "      <td>168</td>\n",
       "      <td>3</td>\n",
       "      <td>0</td>\n",
       "    </tr>\n",
       "    <tr>\n",
       "      <th>3</th>\n",
       "      <td>4</td>\n",
       "      <td>27198</td>\n",
       "      <td>99.670726</td>\n",
       "      <td>52.382451</td>\n",
       "      <td>64.944086</td>\n",
       "      <td>67.161253</td>\n",
       "      <td>1386.801946</td>\n",
       "      <td>157</td>\n",
       "      <td>4</td>\n",
       "      <td>0</td>\n",
       "    </tr>\n",
       "    <tr>\n",
       "      <th>4</th>\n",
       "      <td>5</td>\n",
       "      <td>27281</td>\n",
       "      <td>92.949668</td>\n",
       "      <td>48.663776</td>\n",
       "      <td>60.665410</td>\n",
       "      <td>63.114114</td>\n",
       "      <td>1269.014143</td>\n",
       "      <td>146</td>\n",
       "      <td>5</td>\n",
       "      <td>0</td>\n",
       "    </tr>\n",
       "  </tbody>\n",
       "</table>\n",
       "</div>"
      ],
      "text/plain": [
       "   Square  Country       SMSin     SMSout     Callin    Callout     Internet  \\\n",
       "0       1    27198  104.793806  54.821018  67.898464  70.399418  1404.813593   \n",
       "1       2    27198  106.562510  55.662914  68.918439  71.517368  1411.031972   \n",
       "2       3    23555  108.445224  56.559079  70.004163  72.707383  1417.651191   \n",
       "3       4    27198   99.670726  52.382451  64.944086  67.161253  1386.801946   \n",
       "4       5    27281   92.949668  48.663776  60.665410  63.114114  1269.014143   \n",
       "\n",
       "   Charge  j  i  \n",
       "0     162  1  0  \n",
       "1     168  2  0  \n",
       "2     168  3  0  \n",
       "3     157  4  0  \n",
       "4     146  5  0  "
      ]
     },
     "execution_count": 21,
     "metadata": {},
     "output_type": "execute_result"
    }
   ],
   "source": [
    "dSquare = d.groupby(level = [\"Square\"]).sum()\n",
    "dSquare.reset_index(\"Square\",inplace=True)\n",
    "dSquare['j'] = dSquare[\"Square\"]%100\n",
    "dSquare['i'] = ((dSquare[\"Square\"]-dSquare[\"j\"])/100).apply(lambda x : int(x))\n",
    "dSquare.head()"
   ]
  },
  {
   "cell_type": "code",
   "execution_count": 22,
   "metadata": {},
   "outputs": [
    {
     "data": {
      "image/png": "[encoded data removed]",
      "text/plain": [
       "<matplotlib.figure.Figure at 0x7f87f5490a58>"
      ]
     },
     "metadata": {},
     "output_type": "display_data"
    },
    {
     "data": {
      "image/png": "[encoded data removed]",
      "text/plain": [
       "<matplotlib.figure.Figure at 0x7f87f54980f0>"
      ]
     },
     "metadata": {},
     "output_type": "display_data"
    }
   ],
   "source": [
    "dSquare[\"SMS\"] = dSquare[\"SMSin\"]+dSquare[\"SMSout\"]\n",
    "dSquare[\"Call\"] = dSquare[\"Callin\"] + dSquare[\"Callout\"]\n",
    "for label in [\"SMS\",\"Call\"]:\n",
    "    fig, (ax, ax2)=plt.subplots(ncols=2)\n",
    "    ax.set_title(\"Tripcolor of Milano : \"+label)\n",
    "    ax.tripcolor(dSquare[\"i\"], dSquare[\"j\"], dSquare[label])\n",
    "    ax2.set_title(\"Tricontour of Milano : \" +label)\n",
    "    ax2.tricontourf(dSquare[\"i\"], dSquare[\"j\"], dSquare[label])\n",
    "\n",
    "    plt.show()"
   ]
  },
  {
   "cell_type": "markdown",
   "metadata": {},
   "source": [
    "## 2. Understanding how to manipulate Milano to Milano files"
   ]
  },
  {
   "cell_type": "code",
   "execution_count": 26,
   "metadata": {},
   "outputs": [
    {
     "name": "stdout",
     "output_type": "stream",
     "text": [
      "Read : data/MItoMI-2013-12-01.txt\n"
     ]
    }
   ],
   "source": [
    "file = 'data/MItoMI-2013-12-01.txt'\n",
    "verbose = True\n",
    "d = pd.read_csv(file, sep = '\\t',header=None)\n",
    "if verbose:\n",
    "    print(\"Read : \" +file)\n",
    "\n",
    "d.columns = ['Time','Id1','Id2','Signal']"
   ]
  },
  {
   "cell_type": "code",
   "execution_count": 27,
   "metadata": {},
   "outputs": [
    {
     "name": "stdout",
     "output_type": "stream",
     "text": [
      "Kept standard squares.\n",
      "Time conversion.\n"
     ]
    }
   ],
   "source": [
    "mask = np.logical_and(d['Id1'].apply(keep_a_square),d['Id2'].apply(keep_a_square))\n",
    "\n",
    "if verbose:\n",
    "    print(\"Kept standard squares.\")\n",
    "d = d[mask]\n",
    "d.fillna(0)\n",
    "t = pd.DataFrame(data=d['Time'].apply(unix_to_ints))\n",
    "if verbose:\n",
    "    print(\"Time conversion.\")\n",
    "d['Month'] = t[\"Time\"].apply(lambda x : x[0])\n",
    "#d['Day'] = t[\"Time\"].apply(lambda x : x[1])\n",
    "d['Hour'] = t[\"Time\"].apply(lambda x : x[2])\n",
    "# d['WDay'] = t[\"Time\"].apply(lambda x : x[3])"
   ]
  },
  {
   "cell_type": "code",
   "execution_count": 28,
   "metadata": {},
   "outputs": [],
   "source": [
    "dPow = d\n",
    "# dPow.drop([\"Month\",\"Time\"],inplace=True,axis=1)\n",
    "dPow = dPow.set_index([\"Id1\", \"Id2\",\"Hour\"])\n",
    "dPow = d.groupby([\"Id1\", \"Id2\",\"Hour\",]).sum()\n",
    "dPow.reset_index([\"Hour\"],inplace=True)\n"
   ]
  },
  {
   "cell_type": "code",
   "execution_count": 32,
   "metadata": {},
   "outputs": [
    {
     "data": {
      "text/html": [
       "<div>\n",
       "<style scoped>\n",
       "    .dataframe tbody tr th:only-of-type {\n",
       "        vertical-align: middle;\n",
       "    }\n",
       "\n",
       "    .dataframe tbody tr th {\n",
       "        vertical-align: top;\n",
       "    }\n",
       "\n",
       "    .dataframe thead th {\n",
       "        text-align: right;\n",
       "    }\n",
       "</style>\n",
       "<table border=\"1\" class=\"dataframe\">\n",
       "  <thead>\n",
       "    <tr style=\"text-align: right;\">\n",
       "      <th></th>\n",
       "      <th></th>\n",
       "      <th>Hour</th>\n",
       "      <th>Time</th>\n",
       "      <th>Signal</th>\n",
       "      <th>Month</th>\n",
       "    </tr>\n",
       "    <tr>\n",
       "      <th>Id1</th>\n",
       "      <th>Id2</th>\n",
       "      <th></th>\n",
       "      <th></th>\n",
       "      <th></th>\n",
       "      <th></th>\n",
       "    </tr>\n",
       "  </thead>\n",
       "  <tbody>\n",
       "    <tr>\n",
       "      <th rowspan=\"5\" valign=\"top\">1520</th>\n",
       "      <th>1520</th>\n",
       "      <td>1</td>\n",
       "      <td>1385860800000</td>\n",
       "      <td>1.973093e-05</td>\n",
       "      <td>12</td>\n",
       "    </tr>\n",
       "    <tr>\n",
       "      <th>1520</th>\n",
       "      <td>7</td>\n",
       "      <td>1385883600000</td>\n",
       "      <td>1.712988e-07</td>\n",
       "      <td>12</td>\n",
       "    </tr>\n",
       "    <tr>\n",
       "      <th>1520</th>\n",
       "      <td>8</td>\n",
       "      <td>5543545800000</td>\n",
       "      <td>1.122429e-04</td>\n",
       "      <td>48</td>\n",
       "    </tr>\n",
       "    <tr>\n",
       "      <th>1520</th>\n",
       "      <td>9</td>\n",
       "      <td>8315339400000</td>\n",
       "      <td>1.703310e-04</td>\n",
       "      <td>72</td>\n",
       "    </tr>\n",
       "    <tr>\n",
       "      <th>1520</th>\n",
       "      <td>10</td>\n",
       "      <td>4157681400000</td>\n",
       "      <td>6.757199e-06</td>\n",
       "      <td>36</td>\n",
       "    </tr>\n",
       "  </tbody>\n",
       "</table>\n",
       "</div>"
      ],
      "text/plain": [
       "           Hour           Time        Signal  Month\n",
       "Id1  Id2                                           \n",
       "1520 1520     1  1385860800000  1.973093e-05     12\n",
       "     1520     7  1385883600000  1.712988e-07     12\n",
       "     1520     8  5543545800000  1.122429e-04     48\n",
       "     1520     9  8315339400000  1.703310e-04     72\n",
       "     1520    10  4157681400000  6.757199e-06     36"
      ]
     },
     "execution_count": 32,
     "metadata": {},
     "output_type": "execute_result"
    }
   ],
   "source": [
    "dPow.head(5)"
   ]
  },
  {
   "cell_type": "code",
   "execution_count": null,
   "metadata": {},
   "outputs": [],
   "source": [
    "# dPow.pivot(columns=\"Hour\",values=\"Signal\")\n",
    "# dPow.reindex(labels = np.arange(24)+1)"
   ]
  },
  {
   "cell_type": "code",
   "execution_count": null,
   "metadata": {},
   "outputs": [],
   "source": [
    "# dPow.reset_index([\"Id1\", \"Id2\"],inplace=True)"
   ]
  },
  {
   "cell_type": "code",
   "execution_count": null,
   "metadata": {},
   "outputs": [],
   "source": [
    "# d.to_csv(path_or_buf = fileout, sep = '\\t', index = False)\n",
    "# print(\"Saved to : \"+ fileout)"
   ]
  },
  {
   "cell_type": "markdown",
   "metadata": {},
   "source": [
    "## 3. Understanding how to process a square in order to apply redictive Machine Learning techniques"
   ]
  },
  {
   "cell_type": "code",
   "execution_count": null,
   "metadata": {},
   "outputs": [],
   "source": [
    "ori_path = \"MI_data/\"\n",
    "next_path = \"5560\"\n",
    "original_dir = os.listdir(ori_path)\n",
    "next_dir = os.listdir(next_path)\n",
    "\n",
    "for index,file_ori in enumerate(original_dir):\n",
    "    print(\"[\"+str(index+1)+\"/\"+str(len(original_dir))+\"]\")\n",
    "    file_target = next_path + \"/\"+next_path+\"_\"+file_ori\n",
    "    if next_path+\"_\"+file_ori not in next_dir:\n",
    "        geo_filter_a_MI(ori_path+file_ori,file_target)"
   ]
  },
  {
   "cell_type": "code",
   "execution_count": null,
   "metadata": {},
   "outputs": [],
   "source": [
    "d = pd.DataFrame()\n",
    "next_path = \"5560\"\n",
    "next_dir = os.listdir(next_path)\n",
    "ori_path = \"Sample_data/MI_November/\"\n",
    "if next_path+\"_all.csv\" not in next_dir:\n",
    "    for file in next_dir:\n",
    "        if file != next_path+\"_all.csv\":\n",
    "            sub = pd.read_csv(next_path+\"/\"+file,sep=\"\\t\")\n",
    "            print(sub.shape)\n",
    "            d = pd.concat([d,sub])\n",
    "d.to_csv(next_path+'/'+next_path+\"_all.csv\", index = False,sep=\"\\t\")"
   ]
  },
  {
   "cell_type": "markdown",
   "metadata": {},
   "source": [
    "# III. Learning on preprocessed MI data"
   ]
  },
  {
   "cell_type": "code",
   "execution_count": null,
   "metadata": {},
   "outputs": [],
   "source": [
    "file = 'data/MI_squares/5560/5560_all.csv'\n",
    "d = pd.read_csv(file, sep = '\\t')\n",
    "d.head(2)"
   ]
  },
  {
   "cell_type": "markdown",
   "metadata": {},
   "source": [
    "### a) Basés sur []() nous transformons les TS pour un usage supervisé."
   ]
  },
  {
   "cell_type": "code",
   "execution_count": null,
   "metadata": {
    "scrolled": true
   },
   "outputs": [],
   "source": [
    "from sklearn.preprocessing import MinMaxScaler\n",
    "def series_to_supervised(data, n_in=1, n_out=1, dropnan=True):\n",
    "    n_vars = 1 if type(data) is list else data.shape[1]\n",
    "    df = pd.DataFrame(data)\n",
    "    cols, names = list(), list()\n",
    "    # input sequence (t-n, ... t-1)\n",
    "    for i in range(n_in, 0, -1):\n",
    "        cols.append(df.shift(i))\n",
    "        names += [('var%d(t-%d)' % (j+1, i)) for j in range(n_vars)]\n",
    "    # forecast sequence (t, t+1, ... t+n)\n",
    "    for i in range(0, n_out):\n",
    "        cols.append(df.shift(-i))\n",
    "        if i == 0:\n",
    "            names += [('var%d(t)' % (j+1)) for j in range(n_vars)]\n",
    "        else:\n",
    "            names += [('var%d(t+%d)' % (j+1, i)) for j in range(n_vars)]\n",
    "    # put it all together\n",
    "    agg = pd.concat(cols, axis=1)\n",
    "    agg.columns = names\n",
    "    # drop rows with NaN values\n",
    "    if dropnan:\n",
    "        agg.dropna(inplace=True)\n",
    "    return agg\n",
    " \n",
    "# load dataset\n",
    "file = 'data/MI_squares/5560/5560_all.csv'\n",
    "dataset = pd.read_csv(file, sep = '\\t')\n",
    "dataset.drop(\"Square\",axis=1,inplace=True)\n",
    "dataset.set_index(\"Time\",inplace=True)\n",
    "values = dataset.values\n",
    "# # integer encode direction\n",
    "# encoder = LabelEncoder()\n",
    "# values[:,4] = encoder.fit_transform(values[:,4])\n",
    "\n",
    "# ensure all data is float\n",
    "values = values.astype('float32')\n",
    "# normalize features\n",
    "scaler = MinMaxScaler(feature_range=(0, 1))\n",
    "scaled = scaler.fit_transform(values)\n",
    "# frame as supervised learning\n",
    "reframed = series_to_supervised(scaled, 1, 1)\n",
    "# drop columns we don't want to predict (i.e. hour, etc)\n",
    "last_col = reframed.shape[1]-1\n",
    "reframed.drop(reframed.columns[[last_col,last_col-1,last_col-2,last_col-3,last_col-4]], axis=1, inplace=True)\n",
    "reframed.head()"
   ]
  },
  {
   "cell_type": "markdown",
   "metadata": {},
   "source": [
    "### b) On divise en jeu train et jeu validation "
   ]
  },
  {
   "cell_type": "code",
   "execution_count": null,
   "metadata": {},
   "outputs": [],
   "source": [
    "values = reframed.values\n",
    "n_ten_min = int((6*24*60)*0.85) #85% vs 15% \n",
    "train = values[:n_ten_min, :]\n",
    "test = values[n_ten_min:, :]\n",
    "# split into input and outputs\n",
    "train_X, train_y = train[:, :-5], train[:, -5:]\n",
    "test_X, test_y = test[:, :-5], test[:, -5:]\n",
    "# reshape input to be 3D [samples, timesteps, features]\n",
    "train_X = train_X.reshape((train_X.shape[0], 1, train_X.shape[1]))\n",
    "test_X = test_X.reshape((test_X.shape[0], 1, test_X.shape[1]))\n",
    "print(train_X.shape, train_y.shape, test_X.shape, test_y.shape)"
   ]
  },
  {
   "cell_type": "code",
   "execution_count": null,
   "metadata": {},
   "outputs": [],
   "source": [
    "values = reframed.values\n",
    "n_ten_min = int((6*24*60)*0.85) #85% vs 15% \n",
    "train = values[:n_ten_min, :]\n",
    "test = values[n_ten_min:, :]\n",
    "# split into input and outputs\n",
    "train_X, train_y = train[:, :-5], train[:, -5:]\n",
    "test_X, test_y = test[:, :-5], test[:, -5:]\n",
    "# reshape input to be 3D [samples, timesteps, features]\n",
    "train_X = train_X.reshape((1,train_X.shape[0], train_X.shape[1]))\n",
    "test_X = test_X.reshape((1,test_X.shape[0], test_X.shape[1]))\n",
    "\n",
    "train_y = train_y.reshape((1,train_y.shape[0], train_y.shape[1]))\n",
    "test_y = test_y.reshape((1,test_y.shape[0], test_y.shape[1]))\n",
    "print(train_X.shape, train_y.shape, test_X.shape, test_y.shape)"
   ]
  },
  {
   "cell_type": "markdown",
   "metadata": {},
   "source": [
    "### c) On importe keras, définissons notre architecture et entraînons le modèle"
   ]
  },
  {
   "cell_type": "code",
   "execution_count": null,
   "metadata": {},
   "outputs": [],
   "source": [
    "from sklearn.metrics import mean_squared_error\n",
    "from keras.models import Sequential\n",
    "from keras.layers import Dense\n",
    "from keras.layers import LSTM\n",
    "\n",
    "# design network\n",
    "model = Sequential()\n",
    "model.add(LSTM(80, input_shape=(train_X.shape[1], train_X.shape[2])))\n",
    "model.add(Dense(5))\n",
    "model.compile(loss='mae', optimizer='adam')\n",
    "# fit network\n",
    "history = model.fit(train_X, train_y, epochs=50, batch_size=100, validation_data=(test_X, test_y), verbose=2, shuffle=False)"
   ]
  },
  {
   "cell_type": "code",
   "execution_count": null,
   "metadata": {},
   "outputs": [],
   "source": [
    "# plot history\n",
    "plt.plot(history.history['loss'], label='train')\n",
    "plt.plot(history.history['val_loss'], label='test')\n",
    "plt.legend()\n",
    "plt.show()"
   ]
  },
  {
   "cell_type": "markdown",
   "metadata": {},
   "source": [
    "### d) Evaluation du modèle"
   ]
  },
  {
   "cell_type": "code",
   "execution_count": null,
   "metadata": {},
   "outputs": [],
   "source": [
    "from sklearn.metrics import mean_squared_error, mean_absolute_error\n",
    "forecast = []\n",
    "ground_truth = []\n",
    "for index, name in enumerate(dataset.columns[:5]):   \n",
    "    yhat = model.predict(test_X)\n",
    "    test_X_reshaped = test_X.reshape((test_X.shape[0], test_X.shape[2]))\n",
    "    #forecast\n",
    "    inv_yhat = np.concatenate((yhat,test_X_reshaped[:,5:]), axis=1)\n",
    "    inv_yhat = scaler.inverse_transform(inv_yhat)\n",
    "    inv_yhat = inv_yhat[:,index]\n",
    "    forecast.append(inv_yhat)\n",
    "    #ground truth\n",
    "    inv_y = np.concatenate((test_y, test_X_reshaped[:, 5:]), axis=1)\n",
    "    inv_y = scaler.inverse_transform(inv_y)\n",
    "    inv_y = inv_y[:,index]\n",
    "    ground_truth.append(inv_y)\n",
    "    # calculate RMSE\n",
    "    rmse = math.sqrt(mean_squared_error(inv_y, inv_yhat))\n",
    "    mae = mean_absolute_error(inv_y,inv_yhat)\n",
    "    print(name +' - RMSE=%.3f and MAE=%.3f' % (rmse,mae))"
   ]
  },
  {
   "cell_type": "markdown",
   "metadata": {},
   "source": [
    "### e) Visualisation"
   ]
  },
  {
   "cell_type": "code",
   "execution_count": null,
   "metadata": {},
   "outputs": [],
   "source": [
    "# reframed.plot(y = reframed.columns[-5:])\n",
    "# reframed.columns\n",
    "# n_ten_min\n",
    "# dataset.values[[\"SMSin\",\"SMSout\",\"Callin\",\"Callout\",\"Internet\"]]\n",
    "ground_train = dataset[[\"SMSin\",\"SMSout\",\"Callin\",\"Callout\",\"Internet\"]].values[:n_ten_min,:]\n",
    "plt.rcParams[\"figure.figsize\"] = (20,10)\n",
    "plt.plot(np.arange(train_y.shape[0]),ground_train[:,4])\n",
    "plt.plot(np.arange(train_y.shape[0],train_y.shape[0]+inv_yhat.shape[0]),inv_yhat)\n",
    "plt.plot(np.arange(train_y.shape[0],train_y.shape[0]+inv_yhat.shape[0]),inv_y)"
   ]
  },
  {
   "cell_type": "code",
   "execution_count": null,
   "metadata": {},
   "outputs": [],
   "source": []
  },
  {
   "cell_type": "code",
   "execution_count": null,
   "metadata": {},
   "outputs": [],
   "source": []
  }
 ],
 "metadata": {
  "kernelspec": {
   "display_name": "Python 3",
   "language": "python",
   "name": "python3"
  },
  "language_info": {
   "codemirror_mode": {
    "name": "ipython",
    "version": 3
   },
   "file_extension": ".py",
   "mimetype": "text/x-python",
   "name": "python",
   "nbconvert_exporter": "python",
   "pygments_lexer": "ipython3",
   "version": "3.5.4"
  }
 },
 "nbformat": 4,
 "nbformat_minor": 2
}
