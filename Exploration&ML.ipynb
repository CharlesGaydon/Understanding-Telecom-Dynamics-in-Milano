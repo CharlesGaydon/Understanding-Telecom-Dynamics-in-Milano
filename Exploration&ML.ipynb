{
 "cells": [
  {
   "cell_type": "markdown",
   "metadata": {},
   "source": [
    "#  I. A few statistics on the data"
   ]
  },
  {
   "cell_type": "code",
   "execution_count": 57,
   "metadata": {},
   "outputs": [
    {
     "data": {
      "text/html": [
       "<div>\n",
       "<style scoped>\n",
       "    .dataframe tbody tr th:only-of-type {\n",
       "        vertical-align: middle;\n",
       "    }\n",
       "\n",
       "    .dataframe tbody tr th {\n",
       "        vertical-align: top;\n",
       "    }\n",
       "\n",
       "    .dataframe thead th {\n",
       "        text-align: right;\n",
       "    }\n",
       "</style>\n",
       "<table border=\"1\" class=\"dataframe\">\n",
       "  <thead>\n",
       "    <tr style=\"text-align: right;\">\n",
       "      <th></th>\n",
       "      <th></th>\n",
       "      <th></th>\n",
       "      <th></th>\n",
       "      <th></th>\n",
       "      <th>SMSin</th>\n",
       "      <th>SMSout</th>\n",
       "      <th>Callin</th>\n",
       "      <th>Callout</th>\n",
       "      <th>Internet</th>\n",
       "      <th>Charge</th>\n",
       "    </tr>\n",
       "    <tr>\n",
       "      <th>Square</th>\n",
       "      <th>Month</th>\n",
       "      <th>Day</th>\n",
       "      <th>WDay</th>\n",
       "      <th>Hour</th>\n",
       "      <th></th>\n",
       "      <th></th>\n",
       "      <th></th>\n",
       "      <th></th>\n",
       "      <th></th>\n",
       "      <th></th>\n",
       "    </tr>\n",
       "  </thead>\n",
       "  <tbody>\n",
       "    <tr>\n",
       "      <th rowspan=\"5\" valign=\"top\">5560</th>\n",
       "      <th rowspan=\"5\" valign=\"top\">1</th>\n",
       "      <th rowspan=\"5\" valign=\"top\">1</th>\n",
       "      <th rowspan=\"5\" valign=\"top\">3</th>\n",
       "      <th>0</th>\n",
       "      <td>7.340430</td>\n",
       "      <td>7.362232</td>\n",
       "      <td>1.130827</td>\n",
       "      <td>2.917604</td>\n",
       "      <td>523.505147</td>\n",
       "      <td>1</td>\n",
       "    </tr>\n",
       "    <tr>\n",
       "      <th>0</th>\n",
       "      <td>11.827146</td>\n",
       "      <td>14.324700</td>\n",
       "      <td>4.319056</td>\n",
       "      <td>1.822042</td>\n",
       "      <td>257.535138</td>\n",
       "      <td>0</td>\n",
       "    </tr>\n",
       "    <tr>\n",
       "      <th>0</th>\n",
       "      <td>7.540386</td>\n",
       "      <td>5.793828</td>\n",
       "      <td>3.292871</td>\n",
       "      <td>3.252356</td>\n",
       "      <td>253.266168</td>\n",
       "      <td>0</td>\n",
       "    </tr>\n",
       "    <tr>\n",
       "      <th>0</th>\n",
       "      <td>4.658653</td>\n",
       "      <td>4.768099</td>\n",
       "      <td>3.790653</td>\n",
       "      <td>2.993384</td>\n",
       "      <td>231.945013</td>\n",
       "      <td>0</td>\n",
       "    </tr>\n",
       "    <tr>\n",
       "      <th>0</th>\n",
       "      <td>4.061313</td>\n",
       "      <td>12.045884</td>\n",
       "      <td>3.712321</td>\n",
       "      <td>3.511535</td>\n",
       "      <td>189.345856</td>\n",
       "      <td>0</td>\n",
       "    </tr>\n",
       "  </tbody>\n",
       "</table>\n",
       "</div>"
      ],
      "text/plain": [
       "                                SMSin     SMSout    Callin   Callout  \\\n",
       "Square Month Day WDay Hour                                             \n",
       "5560   1     1   3    0      7.340430   7.362232  1.130827  2.917604   \n",
       "                      0     11.827146  14.324700  4.319056  1.822042   \n",
       "                      0      7.540386   5.793828  3.292871  3.252356   \n",
       "                      0      4.658653   4.768099  3.790653  2.993384   \n",
       "                      0      4.061313  12.045884  3.712321  3.511535   \n",
       "\n",
       "                              Internet  Charge  \n",
       "Square Month Day WDay Hour                      \n",
       "5560   1     1   3    0     523.505147       1  \n",
       "                      0     257.535138       0  \n",
       "                      0     253.266168       0  \n",
       "                      0     231.945013       0  \n",
       "                      0     189.345856       0  "
      ]
     },
     "execution_count": 57,
     "metadata": {},
     "output_type": "execute_result"
    }
   ],
   "source": [
    "import pandas as pd\n",
    "import numpy as np\n",
    "%matplotlib inline\n",
    "import matplotlib.pyplot as plt\n",
    "\n",
    "\n",
    "file = 'Sample_data/MI-2013-11-04_processed.csv'\n",
    "\n",
    "d = pd.read_csv(file, sep = '\\t')\n",
    "d.drop(\"Time\",axis=1,inplace=True)\n",
    "d.set_index([\"Square\",\"Month\",\"Day\",\"WDay\",\"Hour\"],inplace=True)\n",
    "d.head(5)"
   ]
  },
  {
   "cell_type": "markdown",
   "metadata": {},
   "source": [
    "### 1. Intensity by hour during a day"
   ]
  },
  {
   "cell_type": "code",
   "execution_count": 59,
   "metadata": {},
   "outputs": [
    {
     "name": "stderr",
     "output_type": "stream",
     "text": [
      "/home/cgaydon/Ressources/anaconda3/envs/Milano/lib/python3.5/site-packages/pandas/plotting/_core.py:1714: UserWarning: Pandas doesn't allow columns to be created via a new attribute name - see https://pandas.pydata.org/pandas-docs/stable/indexing.html#attribute-access\n",
      "  series.name = label\n"
     ]
    },
    {
     "data": {
      "text/plain": [
       "<matplotlib.axes._subplots.AxesSubplot at 0x7fa1cccdcfd0>"
      ]
     },
     "execution_count": 59,
     "metadata": {},
     "output_type": "execute_result"
    },
    {
     "data": {
      "image/png": "[encoded data removed]",
      "text/plain": [
       "<matplotlib.figure.Figure at 0x7fa1cce11278>"
      ]
     },
     "metadata": {},
     "output_type": "display_data"
    }
   ],
   "source": [
    "dHour = d.groupby(level = [\"Hour\"]).sum()\n",
    "dHour.plot(y = [\"SMSin\",\"SMSout\",\"Callin\",\"Callout\"], title = \"Communication dynamics of a day in Milano\")"
   ]
  },
  {
   "cell_type": "code",
   "execution_count": 55,
   "metadata": {},
   "outputs": [
    {
     "name": "stderr",
     "output_type": "stream",
     "text": [
      "/home/cgaydon/Ressources/anaconda3/envs/Milano/lib/python3.5/site-packages/pandas/plotting/_core.py:1714: UserWarning: Pandas doesn't allow columns to be created via a new attribute name - see https://pandas.pydata.org/pandas-docs/stable/indexing.html#attribute-access\n",
      "  series.name = label\n"
     ]
    },
    {
     "data": {
      "text/plain": [
       "<matplotlib.axes._subplots.AxesSubplot at 0x7f9f96798a90>"
      ]
     },
     "execution_count": 55,
     "metadata": {},
     "output_type": "execute_result"
    },
    {
     "data": {
      "image/png": "[encoded data removed]",
      "text/plain": [
       "<matplotlib.figure.Figure at 0x7fa1cccbc320>"
      ]
     },
     "metadata": {},
     "output_type": "display_data"
    }
   ],
   "source": [
    "dHour[\"BalanceSMS\"] = dHour[\"SMSin\"]- dHour[\"SMSout\"]\n",
    "dHour[\"BalanceCall\"] =  dHour[\"Callin\"]- dHour[\"Callout\"]\n",
    "#dHour.head\n",
    "dHour.plot(y = [\"BalanceSMS\",\"BalanceCall\"], use_index=True, title = \"Communication balance in-out of a day in Milano\")"
   ]
  },
  {
   "cell_type": "markdown",
   "metadata": {},
   "source": [
    "If the data is considered exhaustive, would this means that Milano's inhabitant mostly sms outside of their city, and are called from outside ?"
   ]
  },
  {
   "cell_type": "markdown",
   "metadata": {},
   "source": [
    "### Intensity by hour during a week\n",
    "\n",
    "later : we need to load seven different txt files into one to get this, as a file = a day... \n",
    "\n",
    "TODO : preprocess all MI files without header, stack them, add header, and save."
   ]
  },
  {
   "cell_type": "markdown",
   "metadata": {},
   "source": [
    "### 2. Intensity by square"
   ]
  },
  {
   "cell_type": "code",
   "execution_count": null,
   "metadata": {},
   "outputs": [],
   "source": [
    "dSquare = d.groupby(level = [\"Square\"]).sum()\n",
    "dSquare.reset_index(\"Square\",inplace=True)\n",
    "dSquare['j'] = dSquare[\"Square\"]%100\n",
    "dSquare['i'] = ((dSquare[\"Square\"]-dSquare[\"j\"])/100).apply(lambda x : int(x))\n",
    "dSquare.head()"
   ]
  },
  {
   "cell_type": "code",
   "execution_count": null,
   "metadata": {},
   "outputs": [],
   "source": [
    "dSquare[\"SMS\"] = dSquare[\"SMSin\"]+dSquare[\"SMSout\"]\n",
    "dSquare[\"Call\"] = dSquare[\"Callin\"] + dSquare[\"Callout\"]\n",
    "for label in [\"SMS\",\"Call\"]:\n",
    "    fig, (ax, ax2)=plt.subplots(ncols=2)\n",
    "    ax.set_title(\"Tripcolor of Milano : \"+label)\n",
    "    ax.tripcolor(dSquare[\"i\"], dSquare[\"j\"], dSquare[label])\n",
    "    ax2.set_title(\"Tricontour of Milano : \" +label)\n",
    "    ax2.tricontourf(dSquare[\"i\"], dSquare[\"j\"], dSquare[label])\n",
    "\n",
    "    plt.show()"
   ]
  },
  {
   "cell_type": "markdown",
   "metadata": {},
   "source": [
    "# Exploring Mi to Mi data"
   ]
  },
  {
   "cell_type": "code",
   "execution_count": 51,
   "metadata": {},
   "outputs": [
    {
     "name": "stdout",
     "output_type": "stream",
     "text": [
      "Imported\n"
     ]
    },
    {
     "ename": "KeyboardInterrupt",
     "evalue": "",
     "output_type": "error",
     "traceback": [
      "\u001b[0;31m---------------------------------------------------------------------------\u001b[0m",
      "\u001b[0;31mKeyboardInterrupt\u001b[0m                         Traceback (most recent call last)",
      "\u001b[0;32m<ipython-input-51-fa730ffd77a4>\u001b[0m in \u001b[0;36m<module>\u001b[0;34m()\u001b[0m\n\u001b[1;32m      5\u001b[0m \u001b[0md\u001b[0m \u001b[0;34m=\u001b[0m \u001b[0mpd\u001b[0m\u001b[0;34m.\u001b[0m\u001b[0mread_csv\u001b[0m\u001b[0;34m(\u001b[0m\u001b[0mfile\u001b[0m\u001b[0;34m,\u001b[0m \u001b[0msep\u001b[0m \u001b[0;34m=\u001b[0m \u001b[0;34m'\\t'\u001b[0m\u001b[0;34m,\u001b[0m \u001b[0mnames\u001b[0m \u001b[0;34m=\u001b[0m \u001b[0;34m[\u001b[0m\u001b[0;34m\"Time\"\u001b[0m\u001b[0;34m,\u001b[0m \u001b[0;34m\"Id1\"\u001b[0m\u001b[0;34m,\u001b[0m \u001b[0;34m\"Id2\"\u001b[0m\u001b[0;34m,\u001b[0m \u001b[0;34m\"Pow\"\u001b[0m\u001b[0;34m]\u001b[0m\u001b[0;34m)\u001b[0m\u001b[0;34m\u001b[0m\u001b[0m\n\u001b[1;32m      6\u001b[0m \u001b[0mprint\u001b[0m\u001b[0;34m(\u001b[0m\u001b[0;34m\"Imported\"\u001b[0m\u001b[0;34m)\u001b[0m\u001b[0;34m\u001b[0m\u001b[0m\n\u001b[0;32m----> 7\u001b[0;31m \u001b[0md\u001b[0m \u001b[0;34m=\u001b[0m \u001b[0md\u001b[0m\u001b[0;34m[\u001b[0m\u001b[0md\u001b[0m\u001b[0;34m[\u001b[0m\u001b[0;34m\"Id1\"\u001b[0m\u001b[0;34m]\u001b[0m\u001b[0;34m.\u001b[0m\u001b[0mapply\u001b[0m\u001b[0;34m(\u001b[0m\u001b[0mkeep_a_square\u001b[0m\u001b[0;34m)\u001b[0m \u001b[0;34m&\u001b[0m \u001b[0md\u001b[0m\u001b[0;34m[\u001b[0m\u001b[0;34m\"Id2\"\u001b[0m\u001b[0;34m]\u001b[0m\u001b[0;34m.\u001b[0m\u001b[0mapply\u001b[0m\u001b[0;34m(\u001b[0m\u001b[0mkeep_a_square\u001b[0m\u001b[0;34m)\u001b[0m\u001b[0;34m]\u001b[0m\u001b[0;34m\u001b[0m\u001b[0m\n\u001b[0m\u001b[1;32m      8\u001b[0m \u001b[0mprint\u001b[0m\u001b[0;34m(\u001b[0m\u001b[0;34m\"filtered\"\u001b[0m\u001b[0;34m)\u001b[0m\u001b[0;34m\u001b[0m\u001b[0m\n\u001b[1;32m      9\u001b[0m \u001b[0md\u001b[0m\u001b[0;34m.\u001b[0m\u001b[0mdrop\u001b[0m\u001b[0;34m(\u001b[0m\u001b[0;34m\"Time\"\u001b[0m\u001b[0;34m,\u001b[0m\u001b[0maxis\u001b[0m\u001b[0;34m=\u001b[0m\u001b[0;36m1\u001b[0m\u001b[0;34m,\u001b[0m\u001b[0minplace\u001b[0m\u001b[0;34m=\u001b[0m\u001b[0;32mTrue\u001b[0m\u001b[0;34m)\u001b[0m\u001b[0;34m\u001b[0m\u001b[0m\n",
      "\u001b[0;32m~/Ressources/anaconda3/envs/Milano/lib/python3.5/site-packages/pandas/core/series.py\u001b[0m in \u001b[0;36mapply\u001b[0;34m(self, func, convert_dtype, args, **kwds)\u001b[0m\n\u001b[1;32m   2508\u001b[0m             \u001b[0;32melse\u001b[0m\u001b[0;34m:\u001b[0m\u001b[0;34m\u001b[0m\u001b[0m\n\u001b[1;32m   2509\u001b[0m                 \u001b[0mvalues\u001b[0m \u001b[0;34m=\u001b[0m \u001b[0mself\u001b[0m\u001b[0;34m.\u001b[0m\u001b[0masobject\u001b[0m\u001b[0;34m\u001b[0m\u001b[0m\n\u001b[0;32m-> 2510\u001b[0;31m                 \u001b[0mmapped\u001b[0m \u001b[0;34m=\u001b[0m \u001b[0mlib\u001b[0m\u001b[0;34m.\u001b[0m\u001b[0mmap_infer\u001b[0m\u001b[0;34m(\u001b[0m\u001b[0mvalues\u001b[0m\u001b[0;34m,\u001b[0m \u001b[0mf\u001b[0m\u001b[0;34m,\u001b[0m \u001b[0mconvert\u001b[0m\u001b[0;34m=\u001b[0m\u001b[0mconvert_dtype\u001b[0m\u001b[0;34m)\u001b[0m\u001b[0;34m\u001b[0m\u001b[0m\n\u001b[0m\u001b[1;32m   2511\u001b[0m \u001b[0;34m\u001b[0m\u001b[0m\n\u001b[1;32m   2512\u001b[0m         \u001b[0;32mif\u001b[0m \u001b[0mlen\u001b[0m\u001b[0;34m(\u001b[0m\u001b[0mmapped\u001b[0m\u001b[0;34m)\u001b[0m \u001b[0;32mand\u001b[0m \u001b[0misinstance\u001b[0m\u001b[0;34m(\u001b[0m\u001b[0mmapped\u001b[0m\u001b[0;34m[\u001b[0m\u001b[0;36m0\u001b[0m\u001b[0;34m]\u001b[0m\u001b[0;34m,\u001b[0m \u001b[0mSeries\u001b[0m\u001b[0;34m)\u001b[0m\u001b[0;34m:\u001b[0m\u001b[0;34m\u001b[0m\u001b[0m\n",
      "\u001b[0;32mpandas/_libs/src/inference.pyx\u001b[0m in \u001b[0;36mpandas._libs.lib.map_infer\u001b[0;34m()\u001b[0m\n",
      "\u001b[0;32m/mnt/c/Users/charl/Desktop/Understanding-Telecom-Dynamics-in-Milano/preprocess_tools.py\u001b[0m in \u001b[0;36mkeep_a_square\u001b[0;34m(x, xmin, xmax, ymin, ymax, keep_only)\u001b[0m\n\u001b[1;32m    109\u001b[0m         \u001b[0;32mreturn\u001b[0m\u001b[0;34m(\u001b[0m\u001b[0;32mFalse\u001b[0m\u001b[0;34m)\u001b[0m\u001b[0;34m\u001b[0m\u001b[0m\n\u001b[1;32m    110\u001b[0m     \u001b[0mi\u001b[0m \u001b[0;34m=\u001b[0m \u001b[0;34m(\u001b[0m\u001b[0mx\u001b[0m\u001b[0;34m-\u001b[0m\u001b[0mj\u001b[0m\u001b[0;34m)\u001b[0m\u001b[0;34m/\u001b[0m\u001b[0;36m100\u001b[0m\u001b[0;34m\u001b[0m\u001b[0m\n\u001b[0;32m--> 111\u001b[0;31m     \u001b[0;32mif\u001b[0m \u001b[0mi\u001b[0m \u001b[0;34m<\u001b[0m\u001b[0mymin\u001b[0m \u001b[0;32mor\u001b[0m \u001b[0mi\u001b[0m \u001b[0;34m>\u001b[0m \u001b[0mymax\u001b[0m\u001b[0;34m:\u001b[0m\u001b[0;34m\u001b[0m\u001b[0m\n\u001b[0m\u001b[1;32m    112\u001b[0m         \u001b[0;32mreturn\u001b[0m\u001b[0;34m(\u001b[0m\u001b[0;32mFalse\u001b[0m\u001b[0;34m)\u001b[0m\u001b[0;34m\u001b[0m\u001b[0m\n\u001b[1;32m    113\u001b[0m     \u001b[0;32mreturn\u001b[0m\u001b[0;34m(\u001b[0m\u001b[0;32mTrue\u001b[0m\u001b[0;34m)\u001b[0m\u001b[0;34m\u001b[0m\u001b[0m\n",
      "\u001b[0;31mKeyboardInterrupt\u001b[0m: "
     ]
    }
   ],
   "source": [
    "from preprocess_tools import *\n",
    "file = 'Sample_data/decemberMI2MI/MItoMI-2013-12-01.txt'\n",
    "#file = \"Sample_data/decemberMI2MI/Mi-graph.txt\"\n",
    "fileout = file[:-4]+'-Pregel.txt'\n",
    "d = pd.read_csv(file, sep = '\\t', names = [\"Time\", \"Id1\", \"Id2\", \"Pow\"])\n",
    "print(\"Imported\")\n",
    "d = d[d[\"Id1\"].apply(keep_a_square) & d[\"Id2\"].apply(keep_a_square)]\n",
    "print(\"filtered\")\n",
    "d.drop(\"Time\",axis=1,inplace=True)\n",
    "d.set_index([\"Id1\", \"Id2\"],inplace=True)\n",
    "d.head(5)"
   ]
  },
  {
   "cell_type": "code",
   "execution_count": null,
   "metadata": {},
   "outputs": [],
   "source": [
    "dPow = d.groupby(level = [\"Id1\", \"Id2\"]).sum()\n",
    "dPow.reset_index([\"Id1\", \"Id2\"],inplace=True)\n",
    "print(dPow.head(5))\n",
    "print(dPow.shape)"
   ]
  },
  {
   "cell_type": "code",
   "execution_count": null,
   "metadata": {},
   "outputs": [],
   "source": [
    "dPow.to_csv(path_or_buf = fileout)"
   ]
  },
  {
   "cell_type": "markdown",
   "metadata": {},
   "source": [
    "# Processing the 5560 square"
   ]
  },
  {
   "cell_type": "code",
   "execution_count": null,
   "metadata": {},
   "outputs": [],
   "source": [
    "import os\n",
    "from preprocess_tools import *\n",
    "ori_path = \"MI_data/\"\n",
    "next_path = \"5560\"\n",
    "original_dir = os.listdir(ori_path)\n",
    "next_dir = os.listdir(next_path)\n",
    "\n",
    "for index,file_ori in enumerate(original_dir):\n",
    "    print(\"[\"+str(index+1)+\"/\"+str(len(original_dir))+\"]\")\n",
    "    file_target = next_path + \"/\"+next_path+\"_\"+file_ori\n",
    "    if next_path+\"_\"+file_ori not in next_dir:\n",
    "        geo_filter_a_MI(ori_path+file_ori,file_target)"
   ]
  },
  {
   "cell_type": "code",
   "execution_count": null,
   "metadata": {},
   "outputs": [],
   "source": [
    "import pandas as pd\n",
    "d = pd.DataFrame()\n",
    "next_path = \"5560\"\n",
    "next_dir = os.listdir(next_path)\n",
    "ori_path = \"Sample_data/MI_November/\"\n",
    "if next_path+\"_all.csv\" not in next_dir:\n",
    "    for file in next_dir:\n",
    "        if file != next_path+\"_all.csv\":\n",
    "            sub = pd.read_csv(next_path+\"/\"+file,sep=\"\\t\")\n",
    "            print(sub.shape)\n",
    "            d = pd.concat([d,sub])\n",
    "d.to_csv(next_path+'/'+next_path+\"_all.csv\", index = False,sep=\"\\t\")"
   ]
  },
  {
   "cell_type": "markdown",
   "metadata": {},
   "source": [
    "# III. Learning on preprocessed MI data"
   ]
  },
  {
   "cell_type": "code",
   "execution_count": 54,
   "metadata": {},
   "outputs": [
    {
     "data": {
      "text/html": [
       "<div>\n",
       "<style scoped>\n",
       "    .dataframe tbody tr th:only-of-type {\n",
       "        vertical-align: middle;\n",
       "    }\n",
       "\n",
       "    .dataframe tbody tr th {\n",
       "        vertical-align: top;\n",
       "    }\n",
       "\n",
       "    .dataframe thead th {\n",
       "        text-align: right;\n",
       "    }\n",
       "</style>\n",
       "<table border=\"1\" class=\"dataframe\">\n",
       "  <thead>\n",
       "    <tr style=\"text-align: right;\">\n",
       "      <th></th>\n",
       "      <th>Time</th>\n",
       "      <th>Square</th>\n",
       "      <th>SMSin</th>\n",
       "      <th>SMSout</th>\n",
       "      <th>Callin</th>\n",
       "      <th>Callout</th>\n",
       "      <th>Internet</th>\n",
       "      <th>Month</th>\n",
       "      <th>Day</th>\n",
       "      <th>Hour</th>\n",
       "      <th>WDay</th>\n",
       "      <th>Charge</th>\n",
       "    </tr>\n",
       "  </thead>\n",
       "  <tbody>\n",
       "    <tr>\n",
       "      <th>0</th>\n",
       "      <td>2305434.0</td>\n",
       "      <td>5560</td>\n",
       "      <td>22.816267</td>\n",
       "      <td>18.785421</td>\n",
       "      <td>16.701241</td>\n",
       "      <td>14.658665</td>\n",
       "      <td>524.403966</td>\n",
       "      <td>1</td>\n",
       "      <td>1</td>\n",
       "      <td>0</td>\n",
       "      <td>3</td>\n",
       "      <td>1</td>\n",
       "    </tr>\n",
       "    <tr>\n",
       "      <th>1</th>\n",
       "      <td>2305435.0</td>\n",
       "      <td>5560</td>\n",
       "      <td>25.405827</td>\n",
       "      <td>13.824837</td>\n",
       "      <td>6.816121</td>\n",
       "      <td>11.770350</td>\n",
       "      <td>643.835036</td>\n",
       "      <td>1</td>\n",
       "      <td>1</td>\n",
       "      <td>0</td>\n",
       "      <td>3</td>\n",
       "      <td>1</td>\n",
       "    </tr>\n",
       "  </tbody>\n",
       "</table>\n",
       "</div>"
      ],
      "text/plain": [
       "        Time  Square      SMSin     SMSout     Callin    Callout    Internet  \\\n",
       "0  2305434.0    5560  22.816267  18.785421  16.701241  14.658665  524.403966   \n",
       "1  2305435.0    5560  25.405827  13.824837   6.816121  11.770350  643.835036   \n",
       "\n",
       "   Month  Day  Hour  WDay  Charge  \n",
       "0      1    1     0     3       1  \n",
       "1      1    1     0     3       1  "
      ]
     },
     "execution_count": 54,
     "metadata": {},
     "output_type": "execute_result"
    }
   ],
   "source": [
    "import pandas as pd\n",
    "import numpy as np\n",
    "%matplotlib inline\n",
    "import matplotlib.pyplot as plt\n",
    "import math\n",
    "file = 'data/MI_squares/5560/5560_all.csv'\n",
    "d = pd.read_csv(file, sep = '\\t')\n",
    "d.head(2)"
   ]
  },
  {
   "cell_type": "markdown",
   "metadata": {},
   "source": [
    "### a) Basés sur []() nous transformons les TS pour un usage supervisé."
   ]
  },
  {
   "cell_type": "code",
   "execution_count": 3,
   "metadata": {
    "scrolled": true
   },
   "outputs": [
    {
     "data": {
      "text/html": [
       "<div>\n",
       "<style scoped>\n",
       "    .dataframe tbody tr th:only-of-type {\n",
       "        vertical-align: middle;\n",
       "    }\n",
       "\n",
       "    .dataframe tbody tr th {\n",
       "        vertical-align: top;\n",
       "    }\n",
       "\n",
       "    .dataframe thead th {\n",
       "        text-align: right;\n",
       "    }\n",
       "</style>\n",
       "<table border=\"1\" class=\"dataframe\">\n",
       "  <thead>\n",
       "    <tr style=\"text-align: right;\">\n",
       "      <th></th>\n",
       "      <th>var1(t-1)</th>\n",
       "      <th>var2(t-1)</th>\n",
       "      <th>var3(t-1)</th>\n",
       "      <th>var4(t-1)</th>\n",
       "      <th>var5(t-1)</th>\n",
       "      <th>var6(t-1)</th>\n",
       "      <th>var7(t-1)</th>\n",
       "      <th>var8(t-1)</th>\n",
       "      <th>var9(t-1)</th>\n",
       "      <th>var10(t-1)</th>\n",
       "      <th>var1(t)</th>\n",
       "      <th>var2(t)</th>\n",
       "      <th>var3(t)</th>\n",
       "      <th>var4(t)</th>\n",
       "      <th>var5(t)</th>\n",
       "    </tr>\n",
       "  </thead>\n",
       "  <tbody>\n",
       "    <tr>\n",
       "      <th>1</th>\n",
       "      <td>0.090339</td>\n",
       "      <td>0.083326</td>\n",
       "      <td>0.111412</td>\n",
       "      <td>0.091729</td>\n",
       "      <td>0.257814</td>\n",
       "      <td>0.0</td>\n",
       "      <td>0.0</td>\n",
       "      <td>0.0</td>\n",
       "      <td>0.0</td>\n",
       "      <td>1.0</td>\n",
       "      <td>0.100592</td>\n",
       "      <td>0.057386</td>\n",
       "      <td>0.045470</td>\n",
       "      <td>0.073655</td>\n",
       "      <td>0.322203</td>\n",
       "    </tr>\n",
       "    <tr>\n",
       "      <th>2</th>\n",
       "      <td>0.100592</td>\n",
       "      <td>0.057386</td>\n",
       "      <td>0.045470</td>\n",
       "      <td>0.073655</td>\n",
       "      <td>0.322203</td>\n",
       "      <td>0.0</td>\n",
       "      <td>0.0</td>\n",
       "      <td>0.0</td>\n",
       "      <td>0.0</td>\n",
       "      <td>1.0</td>\n",
       "      <td>0.084342</td>\n",
       "      <td>0.096527</td>\n",
       "      <td>0.065623</td>\n",
       "      <td>0.041206</td>\n",
       "      <td>0.232283</td>\n",
       "    </tr>\n",
       "    <tr>\n",
       "      <th>3</th>\n",
       "      <td>0.084342</td>\n",
       "      <td>0.096527</td>\n",
       "      <td>0.065623</td>\n",
       "      <td>0.041206</td>\n",
       "      <td>0.232283</td>\n",
       "      <td>0.0</td>\n",
       "      <td>0.0</td>\n",
       "      <td>0.0</td>\n",
       "      <td>0.0</td>\n",
       "      <td>1.0</td>\n",
       "      <td>0.075887</td>\n",
       "      <td>0.029502</td>\n",
       "      <td>0.031394</td>\n",
       "      <td>0.086704</td>\n",
       "      <td>0.232803</td>\n",
       "    </tr>\n",
       "    <tr>\n",
       "      <th>4</th>\n",
       "      <td>0.075887</td>\n",
       "      <td>0.029502</td>\n",
       "      <td>0.031394</td>\n",
       "      <td>0.086704</td>\n",
       "      <td>0.232803</td>\n",
       "      <td>0.0</td>\n",
       "      <td>0.0</td>\n",
       "      <td>0.0</td>\n",
       "      <td>0.0</td>\n",
       "      <td>1.0</td>\n",
       "      <td>0.042096</td>\n",
       "      <td>0.025386</td>\n",
       "      <td>0.029319</td>\n",
       "      <td>0.052531</td>\n",
       "      <td>0.202387</td>\n",
       "    </tr>\n",
       "    <tr>\n",
       "      <th>5</th>\n",
       "      <td>0.042096</td>\n",
       "      <td>0.025386</td>\n",
       "      <td>0.029319</td>\n",
       "      <td>0.052531</td>\n",
       "      <td>0.202387</td>\n",
       "      <td>0.0</td>\n",
       "      <td>0.0</td>\n",
       "      <td>0.0</td>\n",
       "      <td>0.0</td>\n",
       "      <td>1.0</td>\n",
       "      <td>0.071965</td>\n",
       "      <td>0.020042</td>\n",
       "      <td>0.006863</td>\n",
       "      <td>0.110020</td>\n",
       "      <td>0.194925</td>\n",
       "    </tr>\n",
       "  </tbody>\n",
       "</table>\n",
       "</div>"
      ],
      "text/plain": [
       "   var1(t-1)  var2(t-1)  var3(t-1)  var4(t-1)  var5(t-1)  var6(t-1)  \\\n",
       "1   0.090339   0.083326   0.111412   0.091729   0.257814        0.0   \n",
       "2   0.100592   0.057386   0.045470   0.073655   0.322203        0.0   \n",
       "3   0.084342   0.096527   0.065623   0.041206   0.232283        0.0   \n",
       "4   0.075887   0.029502   0.031394   0.086704   0.232803        0.0   \n",
       "5   0.042096   0.025386   0.029319   0.052531   0.202387        0.0   \n",
       "\n",
       "   var7(t-1)  var8(t-1)  var9(t-1)  var10(t-1)   var1(t)   var2(t)   var3(t)  \\\n",
       "1        0.0        0.0        0.0         1.0  0.100592  0.057386  0.045470   \n",
       "2        0.0        0.0        0.0         1.0  0.084342  0.096527  0.065623   \n",
       "3        0.0        0.0        0.0         1.0  0.075887  0.029502  0.031394   \n",
       "4        0.0        0.0        0.0         1.0  0.042096  0.025386  0.029319   \n",
       "5        0.0        0.0        0.0         1.0  0.071965  0.020042  0.006863   \n",
       "\n",
       "    var4(t)   var5(t)  \n",
       "1  0.073655  0.322203  \n",
       "2  0.041206  0.232283  \n",
       "3  0.086704  0.232803  \n",
       "4  0.052531  0.202387  \n",
       "5  0.110020  0.194925  "
      ]
     },
     "execution_count": 3,
     "metadata": {},
     "output_type": "execute_result"
    }
   ],
   "source": [
    "from sklearn.preprocessing import MinMaxScaler\n",
    "def series_to_supervised(data, n_in=1, n_out=1, dropnan=True):\n",
    "    n_vars = 1 if type(data) is list else data.shape[1]\n",
    "    df = pd.DataFrame(data)\n",
    "    cols, names = list(), list()\n",
    "    # input sequence (t-n, ... t-1)\n",
    "    for i in range(n_in, 0, -1):\n",
    "        cols.append(df.shift(i))\n",
    "        names += [('var%d(t-%d)' % (j+1, i)) for j in range(n_vars)]\n",
    "    # forecast sequence (t, t+1, ... t+n)\n",
    "    for i in range(0, n_out):\n",
    "        cols.append(df.shift(-i))\n",
    "        if i == 0:\n",
    "            names += [('var%d(t)' % (j+1)) for j in range(n_vars)]\n",
    "        else:\n",
    "            names += [('var%d(t+%d)' % (j+1, i)) for j in range(n_vars)]\n",
    "    # put it all together\n",
    "    agg = pd.concat(cols, axis=1)\n",
    "    agg.columns = names\n",
    "    # drop rows with NaN values\n",
    "    if dropnan:\n",
    "        agg.dropna(inplace=True)\n",
    "    return agg\n",
    " \n",
    "# load dataset\n",
    "file = 'data/MI_squares/5560/5560_all.csv'\n",
    "dataset = pd.read_csv(file, sep = '\\t')\n",
    "dataset.drop(\"Square\",axis=1,inplace=True)\n",
    "dataset.set_index(\"Time\",inplace=True)\n",
    "values = dataset.values\n",
    "# # integer encode direction\n",
    "# encoder = LabelEncoder()\n",
    "# values[:,4] = encoder.fit_transform(values[:,4])\n",
    "\n",
    "# ensure all data is float\n",
    "values = values.astype('float32')\n",
    "# normalize features\n",
    "scaler = MinMaxScaler(feature_range=(0, 1))\n",
    "scaled = scaler.fit_transform(values)\n",
    "# frame as supervised learning\n",
    "reframed = series_to_supervised(scaled, 1, 1)\n",
    "# drop columns we don't want to predict (i.e. hour, etc)\n",
    "last_col = reframed.shape[1]-1\n",
    "reframed.drop(reframed.columns[[last_col,last_col-1,last_col-2,last_col-3,last_col-4]], axis=1, inplace=True)\n",
    "reframed.head()"
   ]
  },
  {
   "cell_type": "markdown",
   "metadata": {},
   "source": [
    "### b) On divise en jeu train et jeu validation "
   ]
  },
  {
   "cell_type": "code",
   "execution_count": 90,
   "metadata": {},
   "outputs": [
    {
     "name": "stdout",
     "output_type": "stream",
     "text": [
      "(7344, 1, 10) (7344, 5) (1521, 1, 10) (1521, 5)\n"
     ]
    }
   ],
   "source": [
    "values = reframed.values\n",
    "n_ten_min = int((6*24*60)*0.85) #85% vs 15% \n",
    "train = values[:n_ten_min, :]\n",
    "test = values[n_ten_min:, :]\n",
    "# split into input and outputs\n",
    "train_X, train_y = train[:, :-5], train[:, -5:]\n",
    "test_X, test_y = test[:, :-5], test[:, -5:]\n",
    "# reshape input to be 3D [samples, timesteps, features]\n",
    "train_X = train_X.reshape((train_X.shape[0], 1, train_X.shape[1]))\n",
    "test_X = test_X.reshape((test_X.shape[0], 1, test_X.shape[1]))\n",
    "print(train_X.shape, train_y.shape, test_X.shape, test_y.shape)"
   ]
  },
  {
   "cell_type": "code",
   "execution_count": null,
   "metadata": {},
   "outputs": [],
   "source": [
    "values = reframed.values\n",
    "n_ten_min = int((6*24*60)*0.85) #85% vs 15% \n",
    "train = values[:n_ten_min, :]\n",
    "test = values[n_ten_min:, :]\n",
    "# split into input and outputs\n",
    "train_X, train_y = train[:, :-5], train[:, -5:]\n",
    "test_X, test_y = test[:, :-5], test[:, -5:]\n",
    "# reshape input to be 3D [samples, timesteps, features]\n",
    "train_X = train_X.reshape((1,train_X.shape[0], train_X.shape[1]))\n",
    "test_X = test_X.reshape((1,test_X.shape[0], test_X.shape[1]))\n",
    "\n",
    "train_y = train_y.reshape((1,train_y.shape[0], train_y.shape[1]))\n",
    "test_y = test_y.reshape((1,test_y.shape[0], test_y.shape[1]))\n",
    "print(train_X.shape, train_y.shape, test_X.shape, test_y.shape)"
   ]
  },
  {
   "cell_type": "markdown",
   "metadata": {},
   "source": [
    "### c) On importe keras, définissons notre architecture et entraînons le modèle"
   ]
  },
  {
   "cell_type": "code",
   "execution_count": 92,
   "metadata": {},
   "outputs": [
    {
     "name": "stdout",
     "output_type": "stream",
     "text": [
      "Train on 7344 samples, validate on 1521 samples\n",
      "Epoch 1/50\n",
      "1s - loss: 0.1059 - val_loss: 0.0311\n",
      "Epoch 2/50\n",
      "0s - loss: 0.0554 - val_loss: 0.0204\n",
      "Epoch 3/50\n",
      "0s - loss: 0.0463 - val_loss: 0.0199\n",
      "Epoch 4/50\n",
      "0s - loss: 0.0439 - val_loss: 0.0195\n",
      "Epoch 5/50\n",
      "0s - loss: 0.0429 - val_loss: 0.0192\n",
      "Epoch 6/50\n",
      "0s - loss: 0.0421 - val_loss: 0.0190\n",
      "Epoch 7/50\n",
      "0s - loss: 0.0411 - val_loss: 0.0188\n",
      "Epoch 8/50\n",
      "0s - loss: 0.0403 - val_loss: 0.0186\n",
      "Epoch 9/50\n",
      "0s - loss: 0.0395 - val_loss: 0.0184\n",
      "Epoch 10/50\n",
      "0s - loss: 0.0385 - val_loss: 0.0182\n",
      "Epoch 11/50\n",
      "0s - loss: 0.0376 - val_loss: 0.0180\n",
      "Epoch 12/50\n",
      "0s - loss: 0.0370 - val_loss: 0.0179\n",
      "Epoch 13/50\n",
      "0s - loss: 0.0362 - val_loss: 0.0178\n",
      "Epoch 14/50\n",
      "0s - loss: 0.0356 - val_loss: 0.0176\n",
      "Epoch 15/50\n",
      "0s - loss: 0.0350 - val_loss: 0.0176\n",
      "Epoch 16/50\n",
      "0s - loss: 0.0346 - val_loss: 0.0175\n",
      "Epoch 17/50\n",
      "0s - loss: 0.0341 - val_loss: 0.0175\n",
      "Epoch 18/50\n",
      "0s - loss: 0.0338 - val_loss: 0.0174\n",
      "Epoch 19/50\n",
      "0s - loss: 0.0335 - val_loss: 0.0175\n",
      "Epoch 20/50\n",
      "0s - loss: 0.0333 - val_loss: 0.0175\n",
      "Epoch 21/50\n",
      "0s - loss: 0.0332 - val_loss: 0.0175\n",
      "Epoch 22/50\n",
      "0s - loss: 0.0330 - val_loss: 0.0175\n",
      "Epoch 23/50\n",
      "0s - loss: 0.0329 - val_loss: 0.0175\n",
      "Epoch 24/50\n",
      "0s - loss: 0.0328 - val_loss: 0.0175\n",
      "Epoch 25/50\n",
      "0s - loss: 0.0327 - val_loss: 0.0175\n",
      "Epoch 26/50\n",
      "0s - loss: 0.0327 - val_loss: 0.0175\n",
      "Epoch 27/50\n",
      "0s - loss: 0.0326 - val_loss: 0.0174\n",
      "Epoch 28/50\n",
      "0s - loss: 0.0326 - val_loss: 0.0175\n",
      "Epoch 29/50\n",
      "0s - loss: 0.0326 - val_loss: 0.0175\n",
      "Epoch 30/50\n",
      "0s - loss: 0.0325 - val_loss: 0.0175\n",
      "Epoch 31/50\n",
      "0s - loss: 0.0325 - val_loss: 0.0175\n",
      "Epoch 32/50\n",
      "0s - loss: 0.0324 - val_loss: 0.0175\n",
      "Epoch 33/50\n",
      "0s - loss: 0.0324 - val_loss: 0.0175\n",
      "Epoch 34/50\n",
      "0s - loss: 0.0324 - val_loss: 0.0175\n",
      "Epoch 35/50\n",
      "0s - loss: 0.0323 - val_loss: 0.0174\n",
      "Epoch 36/50\n",
      "0s - loss: 0.0323 - val_loss: 0.0175\n",
      "Epoch 37/50\n",
      "0s - loss: 0.0323 - val_loss: 0.0175\n",
      "Epoch 38/50\n",
      "0s - loss: 0.0322 - val_loss: 0.0175\n",
      "Epoch 39/50\n",
      "0s - loss: 0.0322 - val_loss: 0.0175\n",
      "Epoch 40/50\n",
      "0s - loss: 0.0322 - val_loss: 0.0175\n",
      "Epoch 41/50\n",
      "0s - loss: 0.0322 - val_loss: 0.0175\n",
      "Epoch 42/50\n",
      "0s - loss: 0.0322 - val_loss: 0.0175\n",
      "Epoch 43/50\n",
      "0s - loss: 0.0321 - val_loss: 0.0175\n",
      "Epoch 44/50\n",
      "0s - loss: 0.0321 - val_loss: 0.0175\n",
      "Epoch 45/50\n",
      "0s - loss: 0.0321 - val_loss: 0.0175\n",
      "Epoch 46/50\n",
      "0s - loss: 0.0321 - val_loss: 0.0175\n",
      "Epoch 47/50\n",
      "0s - loss: 0.0320 - val_loss: 0.0175\n",
      "Epoch 48/50\n",
      "0s - loss: 0.0320 - val_loss: 0.0175\n",
      "Epoch 49/50\n",
      "0s - loss: 0.0320 - val_loss: 0.0175\n",
      "Epoch 50/50\n",
      "0s - loss: 0.0320 - val_loss: 0.0175\n"
     ]
    }
   ],
   "source": [
    "from sklearn.metrics import mean_squared_error\n",
    "from keras.models import Sequential\n",
    "from keras.layers import Dense\n",
    "from keras.layers import LSTM\n",
    "\n",
    "# design network\n",
    "model = Sequential()\n",
    "model.add(LSTM(80, input_shape=(train_X.shape[1], train_X.shape[2])))\n",
    "model.add(Dense(5))\n",
    "model.compile(loss='mae', optimizer='adam')\n",
    "# fit network\n",
    "history = model.fit(train_X, train_y, epochs=50, batch_size=100, validation_data=(test_X, test_y), verbose=2, shuffle=False)"
   ]
  },
  {
   "cell_type": "code",
   "execution_count": 93,
   "metadata": {},
   "outputs": [
    {
     "data": {
      "image/png": "[encoded data removed]",
      "text/plain": [
       "<matplotlib.figure.Figure at 0x7fea3c1e3438>"
      ]
     },
     "metadata": {},
     "output_type": "display_data"
    }
   ],
   "source": [
    "# plot history\n",
    "plt.plot(history.history['loss'], label='train')\n",
    "plt.plot(history.history['val_loss'], label='test')\n",
    "plt.legend()\n",
    "plt.show()"
   ]
  },
  {
   "cell_type": "markdown",
   "metadata": {},
   "source": [
    "### d) Evaluation du modèle"
   ]
  },
  {
   "cell_type": "code",
   "execution_count": 112,
   "metadata": {},
   "outputs": [
    {
     "name": "stdout",
     "output_type": "stream",
     "text": [
      "SMSin - RMSE=6.406 and MAE=4.253\n",
      "SMSout - RMSE=7.175 and MAE=3.480\n",
      "Callin - RMSE=4.228 and MAE=2.742\n",
      "Callout - RMSE=6.470 and MAE=4.313\n",
      "Internet - RMSE=17.845 and MAE=13.438\n"
     ]
    }
   ],
   "source": [
    "from sklearn.metrics import mean_squared_error, mean_absolute_error\n",
    "forecast = []\n",
    "ground_truth = []\n",
    "for index, name in enumerate(dataset.columns[:5]):   \n",
    "    yhat = model.predict(test_X)\n",
    "    test_X_reshaped = test_X.reshape((test_X.shape[0], test_X.shape[2]))\n",
    "    #forecast\n",
    "    inv_yhat = np.concatenate((yhat,test_X_reshaped[:,5:]), axis=1)\n",
    "    inv_yhat = scaler.inverse_transform(inv_yhat)\n",
    "    inv_yhat = inv_yhat[:,index]\n",
    "    forecast.append(inv_yhat)\n",
    "    #ground truth\n",
    "    inv_y = np.concatenate((test_y, test_X_reshaped[:, 5:]), axis=1)\n",
    "    inv_y = scaler.inverse_transform(inv_y)\n",
    "    inv_y = inv_y[:,index]\n",
    "    ground_truth.append(inv_y)\n",
    "    # calculate RMSE\n",
    "    rmse = math.sqrt(mean_squared_error(inv_y, inv_yhat))\n",
    "    mae = mean_absolute_error(inv_y,inv_yhat)\n",
    "    print(name +' - RMSE=%.3f and MAE=%.3f' % (rmse,mae))"
   ]
  },
  {
   "cell_type": "markdown",
   "metadata": {},
   "source": [
    "### e) Visualisation"
   ]
  },
  {
   "cell_type": "code",
   "execution_count": 124,
   "metadata": {},
   "outputs": [
    {
     "data": {
      "text/plain": [
       "[<matplotlib.lines.Line2D at 0x7fea34d69e48>]"
      ]
     },
     "execution_count": 124,
     "metadata": {},
     "output_type": "execute_result"
    },
    {
     "data": {
      "image/png": "[encoded data removed]",
      "text/plain": [
       "<matplotlib.figure.Figure at 0x7fea36404ac8>"
      ]
     },
     "metadata": {},
     "output_type": "display_data"
    }
   ],
   "source": [
    "# reframed.plot(y = reframed.columns[-5:])\n",
    "# reframed.columns\n",
    "# n_ten_min\n",
    "# dataset.values[[\"SMSin\",\"SMSout\",\"Callin\",\"Callout\",\"Internet\"]]\n",
    "ground_train = dataset[[\"SMSin\",\"SMSout\",\"Callin\",\"Callout\",\"Internet\"]].values[:n_ten_min,:]\n",
    "plt.rcParams[\"figure.figsize\"] = (20,10)\n",
    "plt.plot(np.arange(train_y.shape[0]),ground_train[:,4])\n",
    "plt.plot(np.arange(train_y.shape[0],train_y.shape[0]+inv_yhat.shape[0]),inv_yhat)\n",
    "plt.plot(np.arange(train_y.shape[0],train_y.shape[0]+inv_yhat.shape[0]),inv_y)"
   ]
  },
  {
   "cell_type": "code",
   "execution_count": null,
   "metadata": {},
   "outputs": [],
   "source": []
  },
  {
   "cell_type": "code",
   "execution_count": null,
   "metadata": {},
   "outputs": [],
   "source": []
  }
 ],
 "metadata": {
  "kernelspec": {
   "display_name": "Python 3",
   "language": "python",
   "name": "python3"
  },
  "language_info": {
   "codemirror_mode": {
    "name": "ipython",
    "version": 3
   },
   "file_extension": ".py",
   "mimetype": "text/x-python",
   "name": "python",
   "nbconvert_exporter": "python",
   "pygments_lexer": "ipython3",
   "version": "3.5.4"
  }
 },
 "nbformat": 4,
 "nbformat_minor": 2
}
