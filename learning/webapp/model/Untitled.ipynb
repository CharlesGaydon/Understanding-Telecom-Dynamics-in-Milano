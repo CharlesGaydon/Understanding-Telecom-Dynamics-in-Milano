{
 "cells": [
  {
   "cell_type": "code",
   "execution_count": 1,
   "metadata": {},
   "outputs": [],
   "source": [
    "import numpy as np\n",
    "import pandas as pd\n",
    "import matplotlib.pyplot as plt\n",
    "import glob\n",
    "import os\n"
   ]
  },
  {
   "cell_type": "code",
   "execution_count": 14,
   "metadata": {},
   "outputs": [],
   "source": [
    "def get_multiple_df(path=\"data/\"):\n",
    "    allFiles = glob.glob(os.getcwd() + \"/\" + path + \"*.txt-sample.csv\")\n",
    "    frame = pd.DataFrame()\n",
    "    list_ = []\n",
    "    for file_ in allFiles:\n",
    "        df = pd.read_csv(file_, sep=',', header=None)\n",
    "        df.columns = ['Id','Square','Time','Country','SMSin','SMSout','Callin','Callout','Internet']\n",
    "        df['day'] = file_.split('/')[-1].split('.')[0].replace('sms-call-internet-mi-', '')\n",
    "        list_.append(df)\n",
    "    return pd.concat(list_)\n",
    "\n",
    "def get_callin_during_time(path=\"data/\"):\n",
    "    # take a file and return an dataframe with column1(time) and column2(callin)\n",
    "    df = get_multiple_df()\n",
    "    \n",
    "    return np.concatenate(df.fillna(0)[['Time', 'Callin']].groupby('Time', sort=True).mean().as_matrix())\n",
    "\n",
    "def cut_by_days(df):\n",
    "    df['day'] = df['Time']//86400;"
   ]
  },
  {
   "cell_type": "code",
   "execution_count": 43,
   "metadata": {},
   "outputs": [],
   "source": [
    "df = get_multiple_df(path='../../data/')\n",
    "df.columns = ['Id','Square','Time','Country','SMSin','SMSout','Callin','Callout','Internet', 'day']\n",
    "df['Time'] = df['Time'] - min(df['Time'])"
   ]
  },
  {
   "cell_type": "code",
   "execution_count": 45,
   "metadata": {},
   "outputs": [],
   "source": [
    "from sklearn.cluster import KMeans\n",
    "kmeans = KMeans(n_clusters=7, random_state=0).fit(df[['SMSin', 'SMSout', 'Callin']].dropna())"
   ]
  },
  {
   "cell_type": "code",
   "execution_count": 47,
   "metadata": {},
   "outputs": [
    {
     "data": {
      "text/plain": [
       "Counter({0: 64558, 1: 504, 2: 1837, 3: 1188, 4: 21389, 5: 7573, 6: 33})"
      ]
     },
     "execution_count": 47,
     "metadata": {},
     "output_type": "execute_result"
    }
   ],
   "source": [
    "kmeans.labels_\n",
    "from collections import Counter\n",
    "Counter(kmeans.labels_)"
   ]
  }
 ],
 "metadata": {
  "kernelspec": {
   "display_name": "Python 3",
   "language": "python",
   "name": "python3"
  },
  "language_info": {
   "codemirror_mode": {
    "name": "ipython",
    "version": 3
   },
   "file_extension": ".py",
   "mimetype": "text/x-python",
   "name": "python",
   "nbconvert_exporter": "python",
   "pygments_lexer": "ipython3",
   "version": "3.6.4"
  }
 },
 "nbformat": 4,
 "nbformat_minor": 2
}
